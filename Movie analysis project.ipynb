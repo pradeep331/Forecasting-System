{
 "cells": [
  {
   "cell_type": "markdown",
   "id": "e5cb2eca",
   "metadata": {},
   "source": [
    "# About Dataset\n",
    "\n",
    "A data set of 1,000 most popular movies on IMDB in the last 10 years. The data points included are:\n",
    "Title, Genre, Description, Director, Actors, Year, Runtime, Rating, Votes, Revenue, Metascrore\n",
    "Feel free to tinker with it and derive interesting insights\n",
    "\n",
    "\n"
   ]
  },
  {
   "cell_type": "markdown",
   "id": "3cd3b93a",
   "metadata": {},
   "source": [
    "# Download \n",
    "https://www.kaggle.com/datasets/PromptCloudHQ/imdb-dataa"
   ]
  },
  {
   "cell_type": "code",
   "execution_count": 1,
   "id": "afd3dd4a",
   "metadata": {},
   "outputs": [],
   "source": [
    "import pandas as pd\n",
    "import numpy as np\n",
    "from matplotlib import pyplot as plt\n",
    "import seaborn as sns\n",
    "import warnings\n",
    "warnings.filterwarnings(\"ignore\") "
   ]
  },
  {
   "cell_type": "code",
   "execution_count": 2,
   "id": "5ea06ec9",
   "metadata": {},
   "outputs": [
    {
     "data": {
      "text/html": [
       "<div>\n",
       "<style scoped>\n",
       "    .dataframe tbody tr th:only-of-type {\n",
       "        vertical-align: middle;\n",
       "    }\n",
       "\n",
       "    .dataframe tbody tr th {\n",
       "        vertical-align: top;\n",
       "    }\n",
       "\n",
       "    .dataframe thead th {\n",
       "        text-align: right;\n",
       "    }\n",
       "</style>\n",
       "<table border=\"1\" class=\"dataframe\">\n",
       "  <thead>\n",
       "    <tr style=\"text-align: right;\">\n",
       "      <th></th>\n",
       "      <th>Rank</th>\n",
       "      <th>Title</th>\n",
       "      <th>Genre</th>\n",
       "      <th>Description</th>\n",
       "      <th>Director</th>\n",
       "      <th>Actors</th>\n",
       "      <th>Year</th>\n",
       "      <th>Runtime (Minutes)</th>\n",
       "      <th>Rating</th>\n",
       "      <th>Votes</th>\n",
       "      <th>Revenue (Millions)</th>\n",
       "      <th>Metascore</th>\n",
       "    </tr>\n",
       "  </thead>\n",
       "  <tbody>\n",
       "    <tr>\n",
       "      <th>0</th>\n",
       "      <td>1</td>\n",
       "      <td>Guardians of the Galaxy</td>\n",
       "      <td>Action,Adventure,Sci-Fi</td>\n",
       "      <td>A group of intergalactic criminals are forced ...</td>\n",
       "      <td>James Gunn</td>\n",
       "      <td>Chris Pratt, Vin Diesel, Bradley Cooper, Zoe S...</td>\n",
       "      <td>2014</td>\n",
       "      <td>121</td>\n",
       "      <td>8.1</td>\n",
       "      <td>757074</td>\n",
       "      <td>333.13</td>\n",
       "      <td>76.0</td>\n",
       "    </tr>\n",
       "    <tr>\n",
       "      <th>1</th>\n",
       "      <td>2</td>\n",
       "      <td>Prometheus</td>\n",
       "      <td>Adventure,Mystery,Sci-Fi</td>\n",
       "      <td>Following clues to the origin of mankind, a te...</td>\n",
       "      <td>Ridley Scott</td>\n",
       "      <td>Noomi Rapace, Logan Marshall-Green, Michael Fa...</td>\n",
       "      <td>2012</td>\n",
       "      <td>124</td>\n",
       "      <td>7.0</td>\n",
       "      <td>485820</td>\n",
       "      <td>126.46</td>\n",
       "      <td>65.0</td>\n",
       "    </tr>\n",
       "    <tr>\n",
       "      <th>2</th>\n",
       "      <td>3</td>\n",
       "      <td>Split</td>\n",
       "      <td>Horror,Thriller</td>\n",
       "      <td>Three girls are kidnapped by a man with a diag...</td>\n",
       "      <td>M. Night Shyamalan</td>\n",
       "      <td>James McAvoy, Anya Taylor-Joy, Haley Lu Richar...</td>\n",
       "      <td>2016</td>\n",
       "      <td>117</td>\n",
       "      <td>7.3</td>\n",
       "      <td>157606</td>\n",
       "      <td>138.12</td>\n",
       "      <td>62.0</td>\n",
       "    </tr>\n",
       "    <tr>\n",
       "      <th>3</th>\n",
       "      <td>4</td>\n",
       "      <td>Sing</td>\n",
       "      <td>Animation,Comedy,Family</td>\n",
       "      <td>In a city of humanoid animals, a hustling thea...</td>\n",
       "      <td>Christophe Lourdelet</td>\n",
       "      <td>Matthew McConaughey,Reese Witherspoon, Seth Ma...</td>\n",
       "      <td>2016</td>\n",
       "      <td>108</td>\n",
       "      <td>7.2</td>\n",
       "      <td>60545</td>\n",
       "      <td>270.32</td>\n",
       "      <td>59.0</td>\n",
       "    </tr>\n",
       "    <tr>\n",
       "      <th>4</th>\n",
       "      <td>5</td>\n",
       "      <td>Suicide Squad</td>\n",
       "      <td>Action,Adventure,Fantasy</td>\n",
       "      <td>A secret government agency recruits some of th...</td>\n",
       "      <td>David Ayer</td>\n",
       "      <td>Will Smith, Jared Leto, Margot Robbie, Viola D...</td>\n",
       "      <td>2016</td>\n",
       "      <td>123</td>\n",
       "      <td>6.2</td>\n",
       "      <td>393727</td>\n",
       "      <td>325.02</td>\n",
       "      <td>40.0</td>\n",
       "    </tr>\n",
       "  </tbody>\n",
       "</table>\n",
       "</div>"
      ],
      "text/plain": [
       "   Rank                    Title                     Genre  \\\n",
       "0     1  Guardians of the Galaxy   Action,Adventure,Sci-Fi   \n",
       "1     2               Prometheus  Adventure,Mystery,Sci-Fi   \n",
       "2     3                    Split           Horror,Thriller   \n",
       "3     4                     Sing   Animation,Comedy,Family   \n",
       "4     5            Suicide Squad  Action,Adventure,Fantasy   \n",
       "\n",
       "                                         Description              Director  \\\n",
       "0  A group of intergalactic criminals are forced ...            James Gunn   \n",
       "1  Following clues to the origin of mankind, a te...          Ridley Scott   \n",
       "2  Three girls are kidnapped by a man with a diag...    M. Night Shyamalan   \n",
       "3  In a city of humanoid animals, a hustling thea...  Christophe Lourdelet   \n",
       "4  A secret government agency recruits some of th...            David Ayer   \n",
       "\n",
       "                                              Actors  Year  Runtime (Minutes)  \\\n",
       "0  Chris Pratt, Vin Diesel, Bradley Cooper, Zoe S...  2014                121   \n",
       "1  Noomi Rapace, Logan Marshall-Green, Michael Fa...  2012                124   \n",
       "2  James McAvoy, Anya Taylor-Joy, Haley Lu Richar...  2016                117   \n",
       "3  Matthew McConaughey,Reese Witherspoon, Seth Ma...  2016                108   \n",
       "4  Will Smith, Jared Leto, Margot Robbie, Viola D...  2016                123   \n",
       "\n",
       "   Rating   Votes  Revenue (Millions)  Metascore  \n",
       "0     8.1  757074              333.13       76.0  \n",
       "1     7.0  485820              126.46       65.0  \n",
       "2     7.3  157606              138.12       62.0  \n",
       "3     7.2   60545              270.32       59.0  \n",
       "4     6.2  393727              325.02       40.0  "
      ]
     },
     "execution_count": 2,
     "metadata": {},
     "output_type": "execute_result"
    }
   ],
   "source": [
    "data=pd.read_csv(\"IMDB-Movie-Data.csv\")#Read csv file\n",
    "data.head() #Display Top 5 rows of the dataset"
   ]
  },
  {
   "cell_type": "code",
   "execution_count": 3,
   "id": "5e944da0",
   "metadata": {},
   "outputs": [
    {
     "data": {
      "text/html": [
       "<div>\n",
       "<style scoped>\n",
       "    .dataframe tbody tr th:only-of-type {\n",
       "        vertical-align: middle;\n",
       "    }\n",
       "\n",
       "    .dataframe tbody tr th {\n",
       "        vertical-align: top;\n",
       "    }\n",
       "\n",
       "    .dataframe thead th {\n",
       "        text-align: right;\n",
       "    }\n",
       "</style>\n",
       "<table border=\"1\" class=\"dataframe\">\n",
       "  <thead>\n",
       "    <tr style=\"text-align: right;\">\n",
       "      <th></th>\n",
       "      <th>Rank</th>\n",
       "      <th>Title</th>\n",
       "      <th>Genre</th>\n",
       "      <th>Description</th>\n",
       "      <th>Director</th>\n",
       "      <th>Actors</th>\n",
       "      <th>Year</th>\n",
       "      <th>Runtime (Minutes)</th>\n",
       "      <th>Rating</th>\n",
       "      <th>Votes</th>\n",
       "      <th>Revenue (Millions)</th>\n",
       "      <th>Metascore</th>\n",
       "    </tr>\n",
       "  </thead>\n",
       "  <tbody>\n",
       "    <tr>\n",
       "      <th>995</th>\n",
       "      <td>996</td>\n",
       "      <td>Secret in Their Eyes</td>\n",
       "      <td>Crime,Drama,Mystery</td>\n",
       "      <td>A tight-knit team of rising investigators, alo...</td>\n",
       "      <td>Billy Ray</td>\n",
       "      <td>Chiwetel Ejiofor, Nicole Kidman, Julia Roberts...</td>\n",
       "      <td>2015</td>\n",
       "      <td>111</td>\n",
       "      <td>6.2</td>\n",
       "      <td>27585</td>\n",
       "      <td>NaN</td>\n",
       "      <td>45.0</td>\n",
       "    </tr>\n",
       "    <tr>\n",
       "      <th>996</th>\n",
       "      <td>997</td>\n",
       "      <td>Hostel: Part II</td>\n",
       "      <td>Horror</td>\n",
       "      <td>Three American college students studying abroa...</td>\n",
       "      <td>Eli Roth</td>\n",
       "      <td>Lauren German, Heather Matarazzo, Bijou Philli...</td>\n",
       "      <td>2007</td>\n",
       "      <td>94</td>\n",
       "      <td>5.5</td>\n",
       "      <td>73152</td>\n",
       "      <td>17.54</td>\n",
       "      <td>46.0</td>\n",
       "    </tr>\n",
       "    <tr>\n",
       "      <th>997</th>\n",
       "      <td>998</td>\n",
       "      <td>Step Up 2: The Streets</td>\n",
       "      <td>Drama,Music,Romance</td>\n",
       "      <td>Romantic sparks occur between two dance studen...</td>\n",
       "      <td>Jon M. Chu</td>\n",
       "      <td>Robert Hoffman, Briana Evigan, Cassie Ventura,...</td>\n",
       "      <td>2008</td>\n",
       "      <td>98</td>\n",
       "      <td>6.2</td>\n",
       "      <td>70699</td>\n",
       "      <td>58.01</td>\n",
       "      <td>50.0</td>\n",
       "    </tr>\n",
       "    <tr>\n",
       "      <th>998</th>\n",
       "      <td>999</td>\n",
       "      <td>Search Party</td>\n",
       "      <td>Adventure,Comedy</td>\n",
       "      <td>A pair of friends embark on a mission to reuni...</td>\n",
       "      <td>Scot Armstrong</td>\n",
       "      <td>Adam Pally, T.J. Miller, Thomas Middleditch,Sh...</td>\n",
       "      <td>2014</td>\n",
       "      <td>93</td>\n",
       "      <td>5.6</td>\n",
       "      <td>4881</td>\n",
       "      <td>NaN</td>\n",
       "      <td>22.0</td>\n",
       "    </tr>\n",
       "    <tr>\n",
       "      <th>999</th>\n",
       "      <td>1000</td>\n",
       "      <td>Nine Lives</td>\n",
       "      <td>Comedy,Family,Fantasy</td>\n",
       "      <td>A stuffy businessman finds himself trapped ins...</td>\n",
       "      <td>Barry Sonnenfeld</td>\n",
       "      <td>Kevin Spacey, Jennifer Garner, Robbie Amell,Ch...</td>\n",
       "      <td>2016</td>\n",
       "      <td>87</td>\n",
       "      <td>5.3</td>\n",
       "      <td>12435</td>\n",
       "      <td>19.64</td>\n",
       "      <td>11.0</td>\n",
       "    </tr>\n",
       "  </tbody>\n",
       "</table>\n",
       "</div>"
      ],
      "text/plain": [
       "     Rank                   Title                  Genre  \\\n",
       "995   996    Secret in Their Eyes    Crime,Drama,Mystery   \n",
       "996   997         Hostel: Part II                 Horror   \n",
       "997   998  Step Up 2: The Streets    Drama,Music,Romance   \n",
       "998   999            Search Party       Adventure,Comedy   \n",
       "999  1000              Nine Lives  Comedy,Family,Fantasy   \n",
       "\n",
       "                                           Description          Director  \\\n",
       "995  A tight-knit team of rising investigators, alo...         Billy Ray   \n",
       "996  Three American college students studying abroa...          Eli Roth   \n",
       "997  Romantic sparks occur between two dance studen...        Jon M. Chu   \n",
       "998  A pair of friends embark on a mission to reuni...    Scot Armstrong   \n",
       "999  A stuffy businessman finds himself trapped ins...  Barry Sonnenfeld   \n",
       "\n",
       "                                                Actors  Year  \\\n",
       "995  Chiwetel Ejiofor, Nicole Kidman, Julia Roberts...  2015   \n",
       "996  Lauren German, Heather Matarazzo, Bijou Philli...  2007   \n",
       "997  Robert Hoffman, Briana Evigan, Cassie Ventura,...  2008   \n",
       "998  Adam Pally, T.J. Miller, Thomas Middleditch,Sh...  2014   \n",
       "999  Kevin Spacey, Jennifer Garner, Robbie Amell,Ch...  2016   \n",
       "\n",
       "     Runtime (Minutes)  Rating  Votes  Revenue (Millions)  Metascore  \n",
       "995                111     6.2  27585                 NaN       45.0  \n",
       "996                 94     5.5  73152               17.54       46.0  \n",
       "997                 98     6.2  70699               58.01       50.0  \n",
       "998                 93     5.6   4881                 NaN       22.0  \n",
       "999                 87     5.3  12435               19.64       11.0  "
      ]
     },
     "execution_count": 3,
     "metadata": {},
     "output_type": "execute_result"
    }
   ],
   "source": [
    "data.tail() #Check last 5 rows of the dataset"
   ]
  },
  {
   "cell_type": "code",
   "execution_count": 4,
   "id": "5e65d2ef",
   "metadata": {},
   "outputs": [
    {
     "data": {
      "text/plain": [
       "(1000, 12)"
      ]
     },
     "execution_count": 4,
     "metadata": {},
     "output_type": "execute_result"
    }
   ],
   "source": [
    "data.shape #Shape of our dataset"
   ]
  },
  {
   "cell_type": "code",
   "execution_count": 5,
   "id": "9b8e56f0",
   "metadata": {},
   "outputs": [
    {
     "data": {
      "text/plain": [
       "Rank                    0\n",
       "Title                   0\n",
       "Genre                   0\n",
       "Description             0\n",
       "Director                0\n",
       "Actors                  0\n",
       "Year                    0\n",
       "Runtime (Minutes)       0\n",
       "Rating                  0\n",
       "Votes                   0\n",
       "Revenue (Millions)    128\n",
       "Metascore              64\n",
       "dtype: int64"
      ]
     },
     "execution_count": 5,
     "metadata": {},
     "output_type": "execute_result"
    }
   ],
   "source": [
    "data.isnull().sum() #Any null value in our dataset"
   ]
  },
  {
   "cell_type": "code",
   "execution_count": 6,
   "id": "5a3e5dc8",
   "metadata": {},
   "outputs": [
    {
     "data": {
      "text/html": [
       "<div>\n",
       "<style scoped>\n",
       "    .dataframe tbody tr th:only-of-type {\n",
       "        vertical-align: middle;\n",
       "    }\n",
       "\n",
       "    .dataframe tbody tr th {\n",
       "        vertical-align: top;\n",
       "    }\n",
       "\n",
       "    .dataframe thead th {\n",
       "        text-align: right;\n",
       "    }\n",
       "</style>\n",
       "<table border=\"1\" class=\"dataframe\">\n",
       "  <thead>\n",
       "    <tr style=\"text-align: right;\">\n",
       "      <th></th>\n",
       "      <th>Rank</th>\n",
       "      <th>Title</th>\n",
       "      <th>Genre</th>\n",
       "      <th>Description</th>\n",
       "      <th>Director</th>\n",
       "      <th>Actors</th>\n",
       "      <th>Year</th>\n",
       "      <th>Runtime (Minutes)</th>\n",
       "      <th>Rating</th>\n",
       "      <th>Votes</th>\n",
       "      <th>Revenue (Millions)</th>\n",
       "      <th>Metascore</th>\n",
       "    </tr>\n",
       "  </thead>\n",
       "  <tbody>\n",
       "    <tr>\n",
       "      <th>0</th>\n",
       "      <td>1</td>\n",
       "      <td>Guardians of the Galaxy</td>\n",
       "      <td>Action,Adventure,Sci-Fi</td>\n",
       "      <td>A group of intergalactic criminals are forced ...</td>\n",
       "      <td>James Gunn</td>\n",
       "      <td>Chris Pratt, Vin Diesel, Bradley Cooper, Zoe S...</td>\n",
       "      <td>2014</td>\n",
       "      <td>121</td>\n",
       "      <td>8.1</td>\n",
       "      <td>757074</td>\n",
       "      <td>333.13</td>\n",
       "      <td>76.0</td>\n",
       "    </tr>\n",
       "    <tr>\n",
       "      <th>1</th>\n",
       "      <td>2</td>\n",
       "      <td>Prometheus</td>\n",
       "      <td>Adventure,Mystery,Sci-Fi</td>\n",
       "      <td>Following clues to the origin of mankind, a te...</td>\n",
       "      <td>Ridley Scott</td>\n",
       "      <td>Noomi Rapace, Logan Marshall-Green, Michael Fa...</td>\n",
       "      <td>2012</td>\n",
       "      <td>124</td>\n",
       "      <td>7.0</td>\n",
       "      <td>485820</td>\n",
       "      <td>126.46</td>\n",
       "      <td>65.0</td>\n",
       "    </tr>\n",
       "    <tr>\n",
       "      <th>2</th>\n",
       "      <td>3</td>\n",
       "      <td>Split</td>\n",
       "      <td>Horror,Thriller</td>\n",
       "      <td>Three girls are kidnapped by a man with a diag...</td>\n",
       "      <td>M. Night Shyamalan</td>\n",
       "      <td>James McAvoy, Anya Taylor-Joy, Haley Lu Richar...</td>\n",
       "      <td>2016</td>\n",
       "      <td>117</td>\n",
       "      <td>7.3</td>\n",
       "      <td>157606</td>\n",
       "      <td>138.12</td>\n",
       "      <td>62.0</td>\n",
       "    </tr>\n",
       "    <tr>\n",
       "      <th>3</th>\n",
       "      <td>4</td>\n",
       "      <td>Sing</td>\n",
       "      <td>Animation,Comedy,Family</td>\n",
       "      <td>In a city of humanoid animals, a hustling thea...</td>\n",
       "      <td>Christophe Lourdelet</td>\n",
       "      <td>Matthew McConaughey,Reese Witherspoon, Seth Ma...</td>\n",
       "      <td>2016</td>\n",
       "      <td>108</td>\n",
       "      <td>7.2</td>\n",
       "      <td>60545</td>\n",
       "      <td>270.32</td>\n",
       "      <td>59.0</td>\n",
       "    </tr>\n",
       "    <tr>\n",
       "      <th>4</th>\n",
       "      <td>5</td>\n",
       "      <td>Suicide Squad</td>\n",
       "      <td>Action,Adventure,Fantasy</td>\n",
       "      <td>A secret government agency recruits some of th...</td>\n",
       "      <td>David Ayer</td>\n",
       "      <td>Will Smith, Jared Leto, Margot Robbie, Viola D...</td>\n",
       "      <td>2016</td>\n",
       "      <td>123</td>\n",
       "      <td>6.2</td>\n",
       "      <td>393727</td>\n",
       "      <td>325.02</td>\n",
       "      <td>40.0</td>\n",
       "    </tr>\n",
       "    <tr>\n",
       "      <th>...</th>\n",
       "      <td>...</td>\n",
       "      <td>...</td>\n",
       "      <td>...</td>\n",
       "      <td>...</td>\n",
       "      <td>...</td>\n",
       "      <td>...</td>\n",
       "      <td>...</td>\n",
       "      <td>...</td>\n",
       "      <td>...</td>\n",
       "      <td>...</td>\n",
       "      <td>...</td>\n",
       "      <td>...</td>\n",
       "    </tr>\n",
       "    <tr>\n",
       "      <th>995</th>\n",
       "      <td>996</td>\n",
       "      <td>Secret in Their Eyes</td>\n",
       "      <td>Crime,Drama,Mystery</td>\n",
       "      <td>A tight-knit team of rising investigators, alo...</td>\n",
       "      <td>Billy Ray</td>\n",
       "      <td>Chiwetel Ejiofor, Nicole Kidman, Julia Roberts...</td>\n",
       "      <td>2015</td>\n",
       "      <td>111</td>\n",
       "      <td>6.2</td>\n",
       "      <td>27585</td>\n",
       "      <td>1.00</td>\n",
       "      <td>45.0</td>\n",
       "    </tr>\n",
       "    <tr>\n",
       "      <th>996</th>\n",
       "      <td>997</td>\n",
       "      <td>Hostel: Part II</td>\n",
       "      <td>Horror</td>\n",
       "      <td>Three American college students studying abroa...</td>\n",
       "      <td>Eli Roth</td>\n",
       "      <td>Lauren German, Heather Matarazzo, Bijou Philli...</td>\n",
       "      <td>2007</td>\n",
       "      <td>94</td>\n",
       "      <td>5.5</td>\n",
       "      <td>73152</td>\n",
       "      <td>17.54</td>\n",
       "      <td>46.0</td>\n",
       "    </tr>\n",
       "    <tr>\n",
       "      <th>997</th>\n",
       "      <td>998</td>\n",
       "      <td>Step Up 2: The Streets</td>\n",
       "      <td>Drama,Music,Romance</td>\n",
       "      <td>Romantic sparks occur between two dance studen...</td>\n",
       "      <td>Jon M. Chu</td>\n",
       "      <td>Robert Hoffman, Briana Evigan, Cassie Ventura,...</td>\n",
       "      <td>2008</td>\n",
       "      <td>98</td>\n",
       "      <td>6.2</td>\n",
       "      <td>70699</td>\n",
       "      <td>58.01</td>\n",
       "      <td>50.0</td>\n",
       "    </tr>\n",
       "    <tr>\n",
       "      <th>998</th>\n",
       "      <td>999</td>\n",
       "      <td>Search Party</td>\n",
       "      <td>Adventure,Comedy</td>\n",
       "      <td>A pair of friends embark on a mission to reuni...</td>\n",
       "      <td>Scot Armstrong</td>\n",
       "      <td>Adam Pally, T.J. Miller, Thomas Middleditch,Sh...</td>\n",
       "      <td>2014</td>\n",
       "      <td>93</td>\n",
       "      <td>5.6</td>\n",
       "      <td>4881</td>\n",
       "      <td>1.00</td>\n",
       "      <td>22.0</td>\n",
       "    </tr>\n",
       "    <tr>\n",
       "      <th>999</th>\n",
       "      <td>1000</td>\n",
       "      <td>Nine Lives</td>\n",
       "      <td>Comedy,Family,Fantasy</td>\n",
       "      <td>A stuffy businessman finds himself trapped ins...</td>\n",
       "      <td>Barry Sonnenfeld</td>\n",
       "      <td>Kevin Spacey, Jennifer Garner, Robbie Amell,Ch...</td>\n",
       "      <td>2016</td>\n",
       "      <td>87</td>\n",
       "      <td>5.3</td>\n",
       "      <td>12435</td>\n",
       "      <td>19.64</td>\n",
       "      <td>11.0</td>\n",
       "    </tr>\n",
       "  </tbody>\n",
       "</table>\n",
       "<p>1000 rows × 12 columns</p>\n",
       "</div>"
      ],
      "text/plain": [
       "     Rank                    Title                     Genre  \\\n",
       "0       1  Guardians of the Galaxy   Action,Adventure,Sci-Fi   \n",
       "1       2               Prometheus  Adventure,Mystery,Sci-Fi   \n",
       "2       3                    Split           Horror,Thriller   \n",
       "3       4                     Sing   Animation,Comedy,Family   \n",
       "4       5            Suicide Squad  Action,Adventure,Fantasy   \n",
       "..    ...                      ...                       ...   \n",
       "995   996     Secret in Their Eyes       Crime,Drama,Mystery   \n",
       "996   997          Hostel: Part II                    Horror   \n",
       "997   998   Step Up 2: The Streets       Drama,Music,Romance   \n",
       "998   999             Search Party          Adventure,Comedy   \n",
       "999  1000               Nine Lives     Comedy,Family,Fantasy   \n",
       "\n",
       "                                           Description              Director  \\\n",
       "0    A group of intergalactic criminals are forced ...            James Gunn   \n",
       "1    Following clues to the origin of mankind, a te...          Ridley Scott   \n",
       "2    Three girls are kidnapped by a man with a diag...    M. Night Shyamalan   \n",
       "3    In a city of humanoid animals, a hustling thea...  Christophe Lourdelet   \n",
       "4    A secret government agency recruits some of th...            David Ayer   \n",
       "..                                                 ...                   ...   \n",
       "995  A tight-knit team of rising investigators, alo...             Billy Ray   \n",
       "996  Three American college students studying abroa...              Eli Roth   \n",
       "997  Romantic sparks occur between two dance studen...            Jon M. Chu   \n",
       "998  A pair of friends embark on a mission to reuni...        Scot Armstrong   \n",
       "999  A stuffy businessman finds himself trapped ins...      Barry Sonnenfeld   \n",
       "\n",
       "                                                Actors  Year  \\\n",
       "0    Chris Pratt, Vin Diesel, Bradley Cooper, Zoe S...  2014   \n",
       "1    Noomi Rapace, Logan Marshall-Green, Michael Fa...  2012   \n",
       "2    James McAvoy, Anya Taylor-Joy, Haley Lu Richar...  2016   \n",
       "3    Matthew McConaughey,Reese Witherspoon, Seth Ma...  2016   \n",
       "4    Will Smith, Jared Leto, Margot Robbie, Viola D...  2016   \n",
       "..                                                 ...   ...   \n",
       "995  Chiwetel Ejiofor, Nicole Kidman, Julia Roberts...  2015   \n",
       "996  Lauren German, Heather Matarazzo, Bijou Philli...  2007   \n",
       "997  Robert Hoffman, Briana Evigan, Cassie Ventura,...  2008   \n",
       "998  Adam Pally, T.J. Miller, Thomas Middleditch,Sh...  2014   \n",
       "999  Kevin Spacey, Jennifer Garner, Robbie Amell,Ch...  2016   \n",
       "\n",
       "     Runtime (Minutes)  Rating   Votes  Revenue (Millions)  Metascore  \n",
       "0                  121     8.1  757074              333.13       76.0  \n",
       "1                  124     7.0  485820              126.46       65.0  \n",
       "2                  117     7.3  157606              138.12       62.0  \n",
       "3                  108     7.2   60545              270.32       59.0  \n",
       "4                  123     6.2  393727              325.02       40.0  \n",
       "..                 ...     ...     ...                 ...        ...  \n",
       "995                111     6.2   27585                1.00       45.0  \n",
       "996                 94     5.5   73152               17.54       46.0  \n",
       "997                 98     6.2   70699               58.01       50.0  \n",
       "998                 93     5.6    4881                1.00       22.0  \n",
       "999                 87     5.3   12435               19.64       11.0  \n",
       "\n",
       "[1000 rows x 12 columns]"
      ]
     },
     "execution_count": 6,
     "metadata": {},
     "output_type": "execute_result"
    }
   ],
   "source": [
    "data2=data.fillna(value=1)\n",
    "data2"
   ]
  },
  {
   "cell_type": "code",
   "execution_count": 7,
   "id": "56a2e9ec",
   "metadata": {},
   "outputs": [],
   "source": [
    "data3=data.fillna(method=\"bfill\",inplace=True)\n",
    "data3"
   ]
  },
  {
   "cell_type": "code",
   "execution_count": 8,
   "id": "dcd2304d",
   "metadata": {},
   "outputs": [
    {
     "name": "stdout",
     "output_type": "stream",
     "text": [
      "<class 'pandas.core.frame.DataFrame'>\n",
      "RangeIndex: 1000 entries, 0 to 999\n",
      "Data columns (total 12 columns):\n",
      " #   Column              Non-Null Count  Dtype  \n",
      "---  ------              --------------  -----  \n",
      " 0   Rank                1000 non-null   int64  \n",
      " 1   Title               1000 non-null   object \n",
      " 2   Genre               1000 non-null   object \n",
      " 3   Description         1000 non-null   object \n",
      " 4   Director            1000 non-null   object \n",
      " 5   Actors              1000 non-null   object \n",
      " 6   Year                1000 non-null   int64  \n",
      " 7   Runtime (Minutes)   1000 non-null   int64  \n",
      " 8   Rating              1000 non-null   float64\n",
      " 9   Votes               1000 non-null   int64  \n",
      " 10  Revenue (Millions)  1000 non-null   float64\n",
      " 11  Metascore           1000 non-null   float64\n",
      "dtypes: float64(3), int64(4), object(5)\n",
      "memory usage: 93.9+ KB\n"
     ]
    }
   ],
   "source": [
    "data.info() "
   ]
  },
  {
   "cell_type": "code",
   "execution_count": 9,
   "id": "63126e4e",
   "metadata": {},
   "outputs": [
    {
     "data": {
      "text/html": [
       "<div>\n",
       "<style scoped>\n",
       "    .dataframe tbody tr th:only-of-type {\n",
       "        vertical-align: middle;\n",
       "    }\n",
       "\n",
       "    .dataframe tbody tr th {\n",
       "        vertical-align: top;\n",
       "    }\n",
       "\n",
       "    .dataframe thead th {\n",
       "        text-align: right;\n",
       "    }\n",
       "</style>\n",
       "<table border=\"1\" class=\"dataframe\">\n",
       "  <thead>\n",
       "    <tr style=\"text-align: right;\">\n",
       "      <th></th>\n",
       "      <th>Rank</th>\n",
       "      <th>Year</th>\n",
       "      <th>Runtime (Minutes)</th>\n",
       "      <th>Rating</th>\n",
       "      <th>Votes</th>\n",
       "      <th>Revenue (Millions)</th>\n",
       "      <th>Metascore</th>\n",
       "    </tr>\n",
       "  </thead>\n",
       "  <tbody>\n",
       "    <tr>\n",
       "      <th>count</th>\n",
       "      <td>1000.000000</td>\n",
       "      <td>1000.000000</td>\n",
       "      <td>1000.000000</td>\n",
       "      <td>1000.000000</td>\n",
       "      <td>1.000000e+03</td>\n",
       "      <td>1000.000000</td>\n",
       "      <td>1000.000000</td>\n",
       "    </tr>\n",
       "    <tr>\n",
       "      <th>mean</th>\n",
       "      <td>500.500000</td>\n",
       "      <td>2012.783000</td>\n",
       "      <td>113.172000</td>\n",
       "      <td>6.723200</td>\n",
       "      <td>1.698083e+05</td>\n",
       "      <td>81.295100</td>\n",
       "      <td>58.975000</td>\n",
       "    </tr>\n",
       "    <tr>\n",
       "      <th>std</th>\n",
       "      <td>288.819436</td>\n",
       "      <td>3.205962</td>\n",
       "      <td>18.810908</td>\n",
       "      <td>0.945429</td>\n",
       "      <td>1.887626e+05</td>\n",
       "      <td>104.038645</td>\n",
       "      <td>17.052189</td>\n",
       "    </tr>\n",
       "    <tr>\n",
       "      <th>min</th>\n",
       "      <td>1.000000</td>\n",
       "      <td>2006.000000</td>\n",
       "      <td>66.000000</td>\n",
       "      <td>1.900000</td>\n",
       "      <td>6.100000e+01</td>\n",
       "      <td>0.000000</td>\n",
       "      <td>11.000000</td>\n",
       "    </tr>\n",
       "    <tr>\n",
       "      <th>25%</th>\n",
       "      <td>250.750000</td>\n",
       "      <td>2010.000000</td>\n",
       "      <td>100.000000</td>\n",
       "      <td>6.200000</td>\n",
       "      <td>3.630900e+04</td>\n",
       "      <td>12.467500</td>\n",
       "      <td>47.000000</td>\n",
       "    </tr>\n",
       "    <tr>\n",
       "      <th>50%</th>\n",
       "      <td>500.500000</td>\n",
       "      <td>2014.000000</td>\n",
       "      <td>111.000000</td>\n",
       "      <td>6.800000</td>\n",
       "      <td>1.107990e+05</td>\n",
       "      <td>47.240000</td>\n",
       "      <td>60.000000</td>\n",
       "    </tr>\n",
       "    <tr>\n",
       "      <th>75%</th>\n",
       "      <td>750.250000</td>\n",
       "      <td>2016.000000</td>\n",
       "      <td>123.000000</td>\n",
       "      <td>7.400000</td>\n",
       "      <td>2.399098e+05</td>\n",
       "      <td>110.520000</td>\n",
       "      <td>72.000000</td>\n",
       "    </tr>\n",
       "    <tr>\n",
       "      <th>max</th>\n",
       "      <td>1000.000000</td>\n",
       "      <td>2016.000000</td>\n",
       "      <td>191.000000</td>\n",
       "      <td>9.000000</td>\n",
       "      <td>1.791916e+06</td>\n",
       "      <td>936.630000</td>\n",
       "      <td>100.000000</td>\n",
       "    </tr>\n",
       "  </tbody>\n",
       "</table>\n",
       "</div>"
      ],
      "text/plain": [
       "              Rank         Year  Runtime (Minutes)       Rating         Votes  \\\n",
       "count  1000.000000  1000.000000        1000.000000  1000.000000  1.000000e+03   \n",
       "mean    500.500000  2012.783000         113.172000     6.723200  1.698083e+05   \n",
       "std     288.819436     3.205962          18.810908     0.945429  1.887626e+05   \n",
       "min       1.000000  2006.000000          66.000000     1.900000  6.100000e+01   \n",
       "25%     250.750000  2010.000000         100.000000     6.200000  3.630900e+04   \n",
       "50%     500.500000  2014.000000         111.000000     6.800000  1.107990e+05   \n",
       "75%     750.250000  2016.000000         123.000000     7.400000  2.399098e+05   \n",
       "max    1000.000000  2016.000000         191.000000     9.000000  1.791916e+06   \n",
       "\n",
       "       Revenue (Millions)    Metascore  \n",
       "count         1000.000000  1000.000000  \n",
       "mean            81.295100    58.975000  \n",
       "std            104.038645    17.052189  \n",
       "min              0.000000    11.000000  \n",
       "25%             12.467500    47.000000  \n",
       "50%             47.240000    60.000000  \n",
       "75%            110.520000    72.000000  \n",
       "max            936.630000   100.000000  "
      ]
     },
     "execution_count": 9,
     "metadata": {},
     "output_type": "execute_result"
    }
   ],
   "source": [
    "data.describe()"
   ]
  },
  {
   "cell_type": "code",
   "execution_count": 10,
   "id": "e2a140d2",
   "metadata": {},
   "outputs": [
    {
     "data": {
      "text/html": [
       "<div>\n",
       "<style scoped>\n",
       "    .dataframe tbody tr th:only-of-type {\n",
       "        vertical-align: middle;\n",
       "    }\n",
       "\n",
       "    .dataframe tbody tr th {\n",
       "        vertical-align: top;\n",
       "    }\n",
       "\n",
       "    .dataframe thead th {\n",
       "        text-align: right;\n",
       "    }\n",
       "</style>\n",
       "<table border=\"1\" class=\"dataframe\">\n",
       "  <thead>\n",
       "    <tr style=\"text-align: right;\">\n",
       "      <th></th>\n",
       "      <th>Rank</th>\n",
       "      <th>Year</th>\n",
       "      <th>Runtime (Minutes)</th>\n",
       "      <th>Rating</th>\n",
       "      <th>Votes</th>\n",
       "      <th>Revenue (Millions)</th>\n",
       "      <th>Metascore</th>\n",
       "    </tr>\n",
       "  </thead>\n",
       "  <tbody>\n",
       "    <tr>\n",
       "      <th>Rank</th>\n",
       "      <td>1.000000</td>\n",
       "      <td>-0.261605</td>\n",
       "      <td>-0.221739</td>\n",
       "      <td>-0.219555</td>\n",
       "      <td>-0.283876</td>\n",
       "      <td>-0.281174</td>\n",
       "      <td>-0.197986</td>\n",
       "    </tr>\n",
       "    <tr>\n",
       "      <th>Year</th>\n",
       "      <td>-0.261605</td>\n",
       "      <td>1.000000</td>\n",
       "      <td>-0.164900</td>\n",
       "      <td>-0.211219</td>\n",
       "      <td>-0.411904</td>\n",
       "      <td>-0.116304</td>\n",
       "      <td>-0.061384</td>\n",
       "    </tr>\n",
       "    <tr>\n",
       "      <th>Runtime (Minutes)</th>\n",
       "      <td>-0.221739</td>\n",
       "      <td>-0.164900</td>\n",
       "      <td>1.000000</td>\n",
       "      <td>0.392214</td>\n",
       "      <td>0.407062</td>\n",
       "      <td>0.246862</td>\n",
       "      <td>0.185508</td>\n",
       "    </tr>\n",
       "    <tr>\n",
       "      <th>Rating</th>\n",
       "      <td>-0.219555</td>\n",
       "      <td>-0.211219</td>\n",
       "      <td>0.392214</td>\n",
       "      <td>1.000000</td>\n",
       "      <td>0.511537</td>\n",
       "      <td>0.175988</td>\n",
       "      <td>0.576603</td>\n",
       "    </tr>\n",
       "    <tr>\n",
       "      <th>Votes</th>\n",
       "      <td>-0.283876</td>\n",
       "      <td>-0.411904</td>\n",
       "      <td>0.407062</td>\n",
       "      <td>0.511537</td>\n",
       "      <td>1.000000</td>\n",
       "      <td>0.573607</td>\n",
       "      <td>0.307505</td>\n",
       "    </tr>\n",
       "    <tr>\n",
       "      <th>Revenue (Millions)</th>\n",
       "      <td>-0.281174</td>\n",
       "      <td>-0.116304</td>\n",
       "      <td>0.246862</td>\n",
       "      <td>0.175988</td>\n",
       "      <td>0.573607</td>\n",
       "      <td>1.000000</td>\n",
       "      <td>0.129089</td>\n",
       "    </tr>\n",
       "    <tr>\n",
       "      <th>Metascore</th>\n",
       "      <td>-0.197986</td>\n",
       "      <td>-0.061384</td>\n",
       "      <td>0.185508</td>\n",
       "      <td>0.576603</td>\n",
       "      <td>0.307505</td>\n",
       "      <td>0.129089</td>\n",
       "      <td>1.000000</td>\n",
       "    </tr>\n",
       "  </tbody>\n",
       "</table>\n",
       "</div>"
      ],
      "text/plain": [
       "                        Rank      Year  Runtime (Minutes)    Rating     Votes  \\\n",
       "Rank                1.000000 -0.261605          -0.221739 -0.219555 -0.283876   \n",
       "Year               -0.261605  1.000000          -0.164900 -0.211219 -0.411904   \n",
       "Runtime (Minutes)  -0.221739 -0.164900           1.000000  0.392214  0.407062   \n",
       "Rating             -0.219555 -0.211219           0.392214  1.000000  0.511537   \n",
       "Votes              -0.283876 -0.411904           0.407062  0.511537  1.000000   \n",
       "Revenue (Millions) -0.281174 -0.116304           0.246862  0.175988  0.573607   \n",
       "Metascore          -0.197986 -0.061384           0.185508  0.576603  0.307505   \n",
       "\n",
       "                    Revenue (Millions)  Metascore  \n",
       "Rank                         -0.281174  -0.197986  \n",
       "Year                         -0.116304  -0.061384  \n",
       "Runtime (Minutes)             0.246862   0.185508  \n",
       "Rating                        0.175988   0.576603  \n",
       "Votes                         0.573607   0.307505  \n",
       "Revenue (Millions)            1.000000   0.129089  \n",
       "Metascore                     0.129089   1.000000  "
      ]
     },
     "execution_count": 10,
     "metadata": {},
     "output_type": "execute_result"
    }
   ],
   "source": [
    "data.corr()"
   ]
  },
  {
   "cell_type": "code",
   "execution_count": 11,
   "id": "63fa8a84",
   "metadata": {},
   "outputs": [],
   "source": [
    "from sklearn.preprocessing import LabelEncoder"
   ]
  },
  {
   "cell_type": "code",
   "execution_count": 12,
   "id": "bafdf30d",
   "metadata": {},
   "outputs": [
    {
     "data": {
      "text/plain": [
       "LabelEncoder()"
      ]
     },
     "execution_count": 12,
     "metadata": {},
     "output_type": "execute_result"
    }
   ],
   "source": [
    "lb=LabelEncoder()\n",
    "lb"
   ]
  },
  {
   "cell_type": "code",
   "execution_count": 13,
   "id": "67cbbce9",
   "metadata": {},
   "outputs": [],
   "source": [
    "data[\"Title\"]=lb.fit_transform(data['Title'])\n",
    "data[\"Genre\"]=lb.fit_transform(data['Genre'])\n",
    "data[\"Title\"]=lb.fit_transform(data['Title'])\n",
    "data[\"Director\"]=lb.fit_transform(data['Director'])\n",
    "data[\"Actors\"]=lb.fit_transform(data['Actors'])\n",
    "data[\"Rating\"]=lb.fit_transform(data['Rating'])\n",
    "\n"
   ]
  },
  {
   "cell_type": "code",
   "execution_count": 14,
   "id": "3915fec7",
   "metadata": {},
   "outputs": [
    {
     "data": {
      "text/plain": [
       "Index(['Rank', 'Title', 'Genre', 'Description', 'Director', 'Actors', 'Year',\n",
       "       'Runtime (Minutes)', 'Rating', 'Votes', 'Revenue (Millions)',\n",
       "       'Metascore'],\n",
       "      dtype='object')"
      ]
     },
     "execution_count": 14,
     "metadata": {},
     "output_type": "execute_result"
    }
   ],
   "source": [
    "data.columns"
   ]
  },
  {
   "cell_type": "code",
   "execution_count": 15,
   "id": "a8b7926f",
   "metadata": {},
   "outputs": [
    {
     "name": "stdout",
     "output_type": "stream",
     "text": [
      "<class 'pandas.core.frame.DataFrame'>\n",
      "RangeIndex: 1000 entries, 0 to 999\n",
      "Data columns (total 12 columns):\n",
      " #   Column              Non-Null Count  Dtype  \n",
      "---  ------              --------------  -----  \n",
      " 0   Rank                1000 non-null   int64  \n",
      " 1   Title               1000 non-null   int64  \n",
      " 2   Genre               1000 non-null   int32  \n",
      " 3   Description         1000 non-null   object \n",
      " 4   Director            1000 non-null   int32  \n",
      " 5   Actors              1000 non-null   int32  \n",
      " 6   Year                1000 non-null   int64  \n",
      " 7   Runtime (Minutes)   1000 non-null   int64  \n",
      " 8   Rating              1000 non-null   int64  \n",
      " 9   Votes               1000 non-null   int64  \n",
      " 10  Revenue (Millions)  1000 non-null   float64\n",
      " 11  Metascore           1000 non-null   float64\n",
      "dtypes: float64(2), int32(3), int64(6), object(1)\n",
      "memory usage: 82.2+ KB\n"
     ]
    }
   ],
   "source": [
    "data.info()"
   ]
  },
  {
   "cell_type": "code",
   "execution_count": 16,
   "id": "82afbb29",
   "metadata": {},
   "outputs": [
    {
     "data": {
      "text/html": [
       "<div>\n",
       "<style scoped>\n",
       "    .dataframe tbody tr th:only-of-type {\n",
       "        vertical-align: middle;\n",
       "    }\n",
       "\n",
       "    .dataframe tbody tr th {\n",
       "        vertical-align: top;\n",
       "    }\n",
       "\n",
       "    .dataframe thead th {\n",
       "        text-align: right;\n",
       "    }\n",
       "</style>\n",
       "<table border=\"1\" class=\"dataframe\">\n",
       "  <thead>\n",
       "    <tr style=\"text-align: right;\">\n",
       "      <th></th>\n",
       "      <th>Rank</th>\n",
       "      <th>Title</th>\n",
       "      <th>Genre</th>\n",
       "      <th>Description</th>\n",
       "      <th>Director</th>\n",
       "      <th>Actors</th>\n",
       "      <th>Year</th>\n",
       "      <th>Runtime (Minutes)</th>\n",
       "      <th>Rating</th>\n",
       "      <th>Votes</th>\n",
       "      <th>Revenue (Millions)</th>\n",
       "      <th>Metascore</th>\n",
       "    </tr>\n",
       "  </thead>\n",
       "  <tbody>\n",
       "    <tr>\n",
       "      <th>0</th>\n",
       "      <td>1</td>\n",
       "      <td>287</td>\n",
       "      <td>11</td>\n",
       "      <td>A group of intergalactic criminals are forced ...</td>\n",
       "      <td>265</td>\n",
       "      <td>184</td>\n",
       "      <td>2014</td>\n",
       "      <td>121</td>\n",
       "      <td>47</td>\n",
       "      <td>757074</td>\n",
       "      <td>333.13</td>\n",
       "      <td>76.0</td>\n",
       "    </tr>\n",
       "    <tr>\n",
       "      <th>1</th>\n",
       "      <td>2</td>\n",
       "      <td>568</td>\n",
       "      <td>85</td>\n",
       "      <td>Following clues to the origin of mankind, a te...</td>\n",
       "      <td>518</td>\n",
       "      <td>736</td>\n",
       "      <td>2012</td>\n",
       "      <td>124</td>\n",
       "      <td>36</td>\n",
       "      <td>485820</td>\n",
       "      <td>126.46</td>\n",
       "      <td>65.0</td>\n",
       "    </tr>\n",
       "    <tr>\n",
       "      <th>2</th>\n",
       "      <td>3</td>\n",
       "      <td>655</td>\n",
       "      <td>195</td>\n",
       "      <td>Three girls are kidnapped by a man with a diag...</td>\n",
       "      <td>391</td>\n",
       "      <td>418</td>\n",
       "      <td>2016</td>\n",
       "      <td>117</td>\n",
       "      <td>39</td>\n",
       "      <td>157606</td>\n",
       "      <td>138.12</td>\n",
       "      <td>62.0</td>\n",
       "    </tr>\n",
       "    <tr>\n",
       "      <th>3</th>\n",
       "      <td>4</td>\n",
       "      <td>635</td>\n",
       "      <td>92</td>\n",
       "      <td>In a city of humanoid animals, a hustling thea...</td>\n",
       "      <td>105</td>\n",
       "      <td>658</td>\n",
       "      <td>2016</td>\n",
       "      <td>108</td>\n",
       "      <td>38</td>\n",
       "      <td>60545</td>\n",
       "      <td>270.32</td>\n",
       "      <td>59.0</td>\n",
       "    </tr>\n",
       "    <tr>\n",
       "      <th>4</th>\n",
       "      <td>5</td>\n",
       "      <td>673</td>\n",
       "      <td>7</td>\n",
       "      <td>A secret government agency recruits some of th...</td>\n",
       "      <td>136</td>\n",
       "      <td>971</td>\n",
       "      <td>2016</td>\n",
       "      <td>123</td>\n",
       "      <td>28</td>\n",
       "      <td>393727</td>\n",
       "      <td>325.02</td>\n",
       "      <td>40.0</td>\n",
       "    </tr>\n",
       "  </tbody>\n",
       "</table>\n",
       "</div>"
      ],
      "text/plain": [
       "   Rank  Title  Genre                                        Description  \\\n",
       "0     1    287     11  A group of intergalactic criminals are forced ...   \n",
       "1     2    568     85  Following clues to the origin of mankind, a te...   \n",
       "2     3    655    195  Three girls are kidnapped by a man with a diag...   \n",
       "3     4    635     92  In a city of humanoid animals, a hustling thea...   \n",
       "4     5    673      7  A secret government agency recruits some of th...   \n",
       "\n",
       "   Director  Actors  Year  Runtime (Minutes)  Rating   Votes  \\\n",
       "0       265     184  2014                121      47  757074   \n",
       "1       518     736  2012                124      36  485820   \n",
       "2       391     418  2016                117      39  157606   \n",
       "3       105     658  2016                108      38   60545   \n",
       "4       136     971  2016                123      28  393727   \n",
       "\n",
       "   Revenue (Millions)  Metascore  \n",
       "0              333.13       76.0  \n",
       "1              126.46       65.0  \n",
       "2              138.12       62.0  \n",
       "3              270.32       59.0  \n",
       "4              325.02       40.0  "
      ]
     },
     "execution_count": 16,
     "metadata": {},
     "output_type": "execute_result"
    }
   ],
   "source": [
    "data.info()"
   ]
  },
  {
   "cell_type": "code",
   "execution_count": 17,
   "id": "0802ac14",
   "metadata": {},
   "outputs": [],
   "source": [
    "data.dropna(axis=0,inplace=True)"
   ]
  },
  {
   "cell_type": "code",
   "execution_count": 18,
   "id": "fe1e119d",
   "metadata": {},
   "outputs": [
    {
     "data": {
      "image/png": "[encoded data removed]",
      "text/plain": [
       "<Figure size 432x288 with 1 Axes>"
      ]
     },
     "metadata": {
      "needs_background": "light"
     },
     "output_type": "display_data"
    }
   ],
   "source": [
    "sns.barplot(x='Year',y='Votes',data=data)\n",
    "plt.title(\"votes by year\")\n",
    "plt.show()"
   ]
  },
  {
   "cell_type": "markdown",
   "id": "5ce39740",
   "metadata": {},
   "source": [
    "A Movie analysis is reviewing the types of variables it offers to compare to the year and votes. You can use a bar chart to visualize the total votes for each year.When the chart is sorted in ascending order, you can see the highest and lowest values.\n",
    "In 2012 has highest votes and in 2016 has lowest votes.\n",
    "\n"
   ]
  },
  {
   "cell_type": "code",
   "execution_count": 19,
   "id": "2958a449",
   "metadata": {},
   "outputs": [
    {
     "data": {
      "image/png": "[encoded data removed]",
      "text/plain": [
       "<Figure size 432x288 with 1 Axes>"
      ]
     },
     "metadata": {
      "needs_background": "light"
     },
     "output_type": "display_data"
    }
   ],
   "source": [
    "sns.stripplot(y = data['Rating'].head(10), x = data['Year'],data=data)\n",
    "plt.show()"
   ]
  },
  {
   "cell_type": "markdown",
   "id": "5b707144",
   "metadata": {},
   "source": [
    "Stripplot is used to show all observations along with some representation of the underlying distribution."
   ]
  },
  {
   "cell_type": "code",
   "execution_count": 20,
   "id": "6b757ae9",
   "metadata": {},
   "outputs": [
    {
     "data": {
      "image/png": "[encoded data removed]",
      "text/plain": [
       "<Figure size 432x288 with 2 Axes>"
      ]
     },
     "metadata": {
      "needs_background": "light"
     },
     "output_type": "display_data"
    }
   ],
   "source": [
    "sns.heatmap(data.corr(), annot = True, cmap = 'viridis')\n",
    "plt.show()\n"
   ]
  },
  {
   "cell_type": "markdown",
   "id": "469baa6f",
   "metadata": {},
   "source": [
    "A heatmap is a graphical representation of numerical data.Create a heat map to visualize areas with the most point features as the hottest.Here we can see that many of variables has 100% accuracy."
   ]
  },
  {
   "cell_type": "code",
   "execution_count": 21,
   "id": "97d83295",
   "metadata": {},
   "outputs": [
    {
     "data": {
      "image/png": "[encoded data removed]",
      "text/plain": [
       "<Figure size 432x288 with 1 Axes>"
      ]
     },
     "metadata": {
      "needs_background": "light"
     },
     "output_type": "display_data"
    }
   ],
   "source": [
    "data_year=data[\"Year\"]\n",
    "data_revenue=data[\"Revenue (Millions)\"]\n",
    "plt.bar(data_year,data_revenue,color=\"pink\")\n",
    "plt.title(\"Revenue by year\")\n",
    "plt.show()"
   ]
  },
  {
   "cell_type": "markdown",
   "id": "48302775",
   "metadata": {},
   "source": [
    "On above bar chart we can see that on year 2016 and 2015 has highest revenue other hand 2007 has lowest revenue."
   ]
  },
  {
   "cell_type": "code",
   "execution_count": 22,
   "id": "2052b3f9",
   "metadata": {},
   "outputs": [
    {
     "data": {
      "image/png": "[encoded data removed]",
      "text/plain": [
       "<Figure size 432x288 with 1 Axes>"
      ]
     },
     "metadata": {
      "needs_background": "light"
     },
     "output_type": "display_data"
    }
   ],
   "source": [
    "sns.countplot(x=\"Year\",data=data)\n",
    "plt.title(\"Number of movies per year\")\n",
    "plt.show()"
   ]
  },
  {
   "cell_type": "markdown",
   "id": "5dc6d798",
   "metadata": {},
   "source": [
    "The above count plot helps us to understand that the category which has the most number of movies in 2016."
   ]
  },
  {
   "cell_type": "code",
   "execution_count": 23,
   "id": "546e0270",
   "metadata": {},
   "outputs": [
    {
     "data": {
      "image/png": "[encoded data removed]",
      "text/plain": [
       "<Figure size 432x288 with 1 Axes>"
      ]
     },
     "metadata": {
      "needs_background": "light"
     },
     "output_type": "display_data"
    }
   ],
   "source": [
    "sns.scatterplot(x=\"Rating\",y=\"Revenue (Millions)\",data=data,color=\"red\")# Does Rating affect the revenue?\n",
    "plt.show()\n"
   ]
  },
  {
   "cell_type": "markdown",
   "id": "acc987cb",
   "metadata": {},
   "source": [
    "Scatter plots are used to determine the strength of a relationship between two numeric variables.A public rating has noticed an increase in Revenue. We can see that if rating is increase than Revenue also simultaneously rised."
   ]
  },
  {
   "cell_type": "code",
   "execution_count": 24,
   "id": "37ef21df",
   "metadata": {},
   "outputs": [
    {
     "data": {
      "image/png": "[encoded data removed]",
      "text/plain": [
       "<Figure size 360x360 with 6 Axes>"
      ]
     },
     "metadata": {
      "needs_background": "light"
     },
     "output_type": "display_data"
    }
   ],
   "source": [
    "sns.pairplot(data[[\"Revenue (Millions)\",\"Rank\",]],diag_kind=\"auto\")\n",
    "plt.show()"
   ]
  },
  {
   "cell_type": "markdown",
   "id": "395ec7f7",
   "metadata": {},
   "source": [
    "The default pairs plot by itself often gives us valuable insights.We see that Rank and Revenue are positively correlated showing that Rank has increased directly Revenue also rised. "
   ]
  },
  {
   "cell_type": "code",
   "execution_count": 25,
   "id": "48251ab0",
   "metadata": {},
   "outputs": [],
   "source": [
    "from sklearn import linear_model"
   ]
  },
  {
   "cell_type": "code",
   "execution_count": 26,
   "id": "0791a642",
   "metadata": {},
   "outputs": [],
   "source": [
    "from sklearn.linear_model import LinearRegression"
   ]
  },
  {
   "cell_type": "code",
   "execution_count": 27,
   "id": "cc9706bd",
   "metadata": {},
   "outputs": [],
   "source": [
    "lr=LinearRegression()"
   ]
  },
  {
   "cell_type": "code",
   "execution_count": 28,
   "id": "ecc7b473",
   "metadata": {},
   "outputs": [],
   "source": [
    "x=data[[\"Rank\"]]\n",
    "y=data[[\"Revenue (Millions)\"]]"
   ]
  },
  {
   "cell_type": "code",
   "execution_count": 29,
   "id": "02eaf04e",
   "metadata": {},
   "outputs": [],
   "source": [
    "from sklearn.model_selection import train_test_split"
   ]
  },
  {
   "cell_type": "code",
   "execution_count": 30,
   "id": "94b3106b",
   "metadata": {},
   "outputs": [],
   "source": [
    "x_train,x_test,y_train,y_test=train_test_split(x,y,test_size=0.3,random_state=0)"
   ]
  },
  {
   "cell_type": "code",
   "execution_count": 31,
   "id": "ce927f91",
   "metadata": {},
   "outputs": [
    {
     "data": {
      "text/html": [
       "<div>\n",
       "<style scoped>\n",
       "    .dataframe tbody tr th:only-of-type {\n",
       "        vertical-align: middle;\n",
       "    }\n",
       "\n",
       "    .dataframe tbody tr th {\n",
       "        vertical-align: top;\n",
       "    }\n",
       "\n",
       "    .dataframe thead th {\n",
       "        text-align: right;\n",
       "    }\n",
       "</style>\n",
       "<table border=\"1\" class=\"dataframe\">\n",
       "  <thead>\n",
       "    <tr style=\"text-align: right;\">\n",
       "      <th></th>\n",
       "      <th>Rank</th>\n",
       "    </tr>\n",
       "  </thead>\n",
       "  <tbody>\n",
       "    <tr>\n",
       "      <th>105</th>\n",
       "      <td>106</td>\n",
       "    </tr>\n",
       "    <tr>\n",
       "      <th>68</th>\n",
       "      <td>69</td>\n",
       "    </tr>\n",
       "    <tr>\n",
       "      <th>479</th>\n",
       "      <td>480</td>\n",
       "    </tr>\n",
       "    <tr>\n",
       "      <th>399</th>\n",
       "      <td>400</td>\n",
       "    </tr>\n",
       "    <tr>\n",
       "      <th>434</th>\n",
       "      <td>435</td>\n",
       "    </tr>\n",
       "  </tbody>\n",
       "</table>\n",
       "</div>"
      ],
      "text/plain": [
       "     Rank\n",
       "105   106\n",
       "68     69\n",
       "479   480\n",
       "399   400\n",
       "434   435"
      ]
     },
     "execution_count": 31,
     "metadata": {},
     "output_type": "execute_result"
    }
   ],
   "source": [
    "x_train.head()"
   ]
  },
  {
   "cell_type": "code",
   "execution_count": 32,
   "id": "e499ce0c",
   "metadata": {},
   "outputs": [
    {
     "data": {
      "text/plain": [
       "LinearRegression()"
      ]
     },
     "execution_count": 32,
     "metadata": {},
     "output_type": "execute_result"
    }
   ],
   "source": [
    "lr.fit(x_train,y_train)"
   ]
  },
  {
   "cell_type": "code",
   "execution_count": 33,
   "id": "36f9e112",
   "metadata": {},
   "outputs": [],
   "source": [
    "y_pred=lr.predict(x_test)"
   ]
  },
  {
   "cell_type": "code",
   "execution_count": 34,
   "id": "31c7248d",
   "metadata": {},
   "outputs": [
    {
     "data": {
      "text/plain": [
       "0.08015876065570848"
      ]
     },
     "execution_count": 34,
     "metadata": {},
     "output_type": "execute_result"
    }
   ],
   "source": [
    "lr.score(x_train,y_train)"
   ]
  },
  {
   "cell_type": "code",
   "execution_count": 35,
   "id": "e56586a9",
   "metadata": {},
   "outputs": [
    {
     "name": "stdout",
     "output_type": "stream",
     "text": [
      "Coefficient: \n",
      " [[-0.09956305]]\n"
     ]
    }
   ],
   "source": [
    "print(\"Coefficient: \\n\",lr.coef_)"
   ]
  },
  {
   "cell_type": "code",
   "execution_count": 36,
   "id": "bd6441e3",
   "metadata": {},
   "outputs": [
    {
     "name": "stdout",
     "output_type": "stream",
     "text": [
      "Intercept :\n",
      " [129.9446301]\n"
     ]
    }
   ],
   "source": [
    "print(\"Intercept :\\n\",lr.intercept_)"
   ]
  },
  {
   "cell_type": "code",
   "execution_count": 37,
   "id": "aff4688c",
   "metadata": {},
   "outputs": [
    {
     "data": {
      "text/plain": [
       "-2.6978713157382135"
      ]
     },
     "execution_count": 37,
     "metadata": {},
     "output_type": "execute_result"
    }
   ],
   "source": [
    "lr.score(y_test, y_pred)"
   ]
  },
  {
   "cell_type": "code",
   "execution_count": 38,
   "id": "4c273b0d",
   "metadata": {},
   "outputs": [],
   "source": [
    "from sklearn.metrics import mean_absolute_error\n",
    "from sklearn.metrics import mean_squared_error\n",
    "from sklearn.metrics import r2_score"
   ]
  },
  {
   "cell_type": "code",
   "execution_count": 39,
   "id": "66dbec68",
   "metadata": {},
   "outputs": [
    {
     "data": {
      "text/plain": [
       "69.2409777608766"
      ]
     },
     "execution_count": 39,
     "metadata": {},
     "output_type": "execute_result"
    }
   ],
   "source": [
    "mean_absolute_error(y_test, y_pred)"
   ]
  },
  {
   "cell_type": "code",
   "execution_count": 40,
   "id": "d8074ead",
   "metadata": {},
   "outputs": [
    {
     "data": {
      "text/plain": [
       "11175.122946057541"
      ]
     },
     "execution_count": 40,
     "metadata": {},
     "output_type": "execute_result"
    }
   ],
   "source": [
    "mean_squared_error(y_test, y_pred)"
   ]
  },
  {
   "cell_type": "code",
   "execution_count": 41,
   "id": "99e11828",
   "metadata": {},
   "outputs": [
    {
     "data": {
      "text/plain": [
       "105.71245407262828"
      ]
     },
     "execution_count": 41,
     "metadata": {},
     "output_type": "execute_result"
    }
   ],
   "source": [
    "np.sqrt(mean_squared_error(y_test, y_pred))"
   ]
  },
  {
   "cell_type": "code",
   "execution_count": 42,
   "id": "02d206f4",
   "metadata": {},
   "outputs": [
    {
     "data": {
      "text/plain": [
       "0.0764065782166029"
      ]
     },
     "execution_count": 42,
     "metadata": {},
     "output_type": "execute_result"
    }
   ],
   "source": [
    "r2_score(y_test, y_pred)"
   ]
  },
  {
   "cell_type": "code",
   "execution_count": 43,
   "id": "4009d090",
   "metadata": {},
   "outputs": [
    {
     "data": {
      "text/plain": [
       "{'Actual value':      Rank\n",
       " 105   106\n",
       " 68     69\n",
       " 479   480\n",
       " 399   400\n",
       " 434   435\n",
       " ..    ...\n",
       " 835   836\n",
       " 192   193\n",
       " 629   630\n",
       " 559   560\n",
       " 684   685\n",
       " \n",
       " [700 rows x 1 columns],\n",
       " 'predicted value': array([[ 30.97896277],\n",
       "        [ 44.32041088],\n",
       "        [100.17527947],\n",
       "        [ 74.78670284],\n",
       "        [ 62.93870041],\n",
       "        [ 33.16934977],\n",
       "        [127.15686483],\n",
       "        [106.84600352],\n",
       "        [ 99.3787751 ],\n",
       "        [ 59.55355686],\n",
       "        [ 80.46179644],\n",
       "        [ 74.28888761],\n",
       "        [ 51.7876393 ],\n",
       "        [106.04949916],\n",
       "        [ 72.2976267 ],\n",
       "        [124.36909955],\n",
       "        [ 39.64094774],\n",
       "        [112.42153408],\n",
       "        [128.45118442],\n",
       "        [122.17871255],\n",
       "        [126.75861264],\n",
       "        [ 81.95524212],\n",
       "        [ 98.98052292],\n",
       "        [ 98.88095987],\n",
       "        [ 41.93089779],\n",
       "        [ 51.38938712],\n",
       "        [125.36473001],\n",
       "        [119.59007336],\n",
       "        [ 54.1771524 ],\n",
       "        [129.74550401],\n",
       "        [ 47.90468052],\n",
       "        [ 59.15530468],\n",
       "        [ 68.71335705],\n",
       "        [ 51.19026103],\n",
       "        [ 89.22334445],\n",
       "        [ 56.56666549],\n",
       "        [ 34.56323241],\n",
       "        [ 93.40499237],\n",
       "        [ 38.44619119],\n",
       "        [103.26173388],\n",
       "        [106.94556657],\n",
       "        [ 30.68027363],\n",
       "        [ 66.6225331 ],\n",
       "        [ 60.35006122],\n",
       "        [104.85474261],\n",
       "        [ 51.88720235],\n",
       "        [ 48.30293271],\n",
       "        [115.80667763],\n",
       "        [ 98.38314465],\n",
       "        [ 71.40155929],\n",
       "        [ 96.88969896],\n",
       "        [100.4739686 ],\n",
       "        [103.75954911],\n",
       "        [ 86.83383136],\n",
       "        [ 44.02172174],\n",
       "        [ 71.89937451],\n",
       "        [102.76391865],\n",
       "        [102.96304474],\n",
       "        [ 31.57634104],\n",
       "        [ 98.08445551],\n",
       "        [ 73.19369411],\n",
       "        [ 65.82602873],\n",
       "        [115.70711458],\n",
       "        [109.73333185],\n",
       "        [ 88.72552922],\n",
       "        [110.33071012],\n",
       "        [103.56042302],\n",
       "        [ 76.97708984],\n",
       "        [104.75517957],\n",
       "        [ 72.49675279],\n",
       "        [ 56.3675394 ],\n",
       "        [100.07571642],\n",
       "        [ 56.16841331],\n",
       "        [105.25299479],\n",
       "        [ 37.64968682],\n",
       "        [ 88.82509227],\n",
       "        [ 91.11504232],\n",
       "        [ 50.59288275],\n",
       "        [ 70.00767665],\n",
       "        [ 64.73083523],\n",
       "        [103.85911215],\n",
       "        [ 84.44431826],\n",
       "        [ 91.41373145],\n",
       "        [ 32.07415627],\n",
       "        [ 39.3422586 ],\n",
       "        [ 60.84787645],\n",
       "        [106.3481883 ],\n",
       "        [ 79.96398121],\n",
       "        [ 80.36223339],\n",
       "        [ 42.8269652 ],\n",
       "        [ 84.84257044],\n",
       "        [ 80.66092253],\n",
       "        [ 37.94837596],\n",
       "        [102.06697733],\n",
       "        [ 66.32384396],\n",
       "        [ 81.55698994],\n",
       "        [ 73.29325715],\n",
       "        [119.09225813],\n",
       "        [ 93.30542932],\n",
       "        [ 65.72646569],\n",
       "        [ 51.68807626],\n",
       "        [ 42.92652824],\n",
       "        [123.37346909],\n",
       "        [ 40.03919992],\n",
       "        [ 98.2835816 ],\n",
       "        [ 66.52297005],\n",
       "        [ 63.53607868],\n",
       "        [ 51.28982407],\n",
       "        [ 34.46366937],\n",
       "        [108.5385753 ],\n",
       "        [120.18745163],\n",
       "        [ 71.79981147],\n",
       "        [ 83.44868781],\n",
       "        [ 77.77359421],\n",
       "        [104.45649043],\n",
       "        [ 91.5132945 ],\n",
       "        [ 75.5832072 ],\n",
       "        [ 91.81198364],\n",
       "        [ 81.15873776],\n",
       "        [ 78.76922466],\n",
       "        [ 52.18589148],\n",
       "        [ 39.84007383],\n",
       "        [117.69837549],\n",
       "        [ 35.65842591],\n",
       "        [123.87128432],\n",
       "        [ 45.81385656],\n",
       "        [ 92.80761409],\n",
       "        [101.66872515],\n",
       "        [ 36.35536723],\n",
       "        [ 69.31073533],\n",
       "        [ 80.56135948],\n",
       "        [ 67.12034833],\n",
       "        [ 70.50549188],\n",
       "        [ 58.85661554],\n",
       "        [ 54.87409372],\n",
       "        [ 67.7177266 ],\n",
       "        [ 98.78139683],\n",
       "        [129.04856269],\n",
       "        [ 77.17621593],\n",
       "        [ 42.62783911],\n",
       "        [119.78919945],\n",
       "        [ 68.61379401],\n",
       "        [ 78.07228334],\n",
       "        [105.0538687 ],\n",
       "        [102.16654038],\n",
       "        [ 87.63033572],\n",
       "        [ 91.61285754],\n",
       "        [ 90.51766404],\n",
       "        [124.4686626 ],\n",
       "        [126.45992351],\n",
       "        [102.8634817 ],\n",
       "        [126.85817569],\n",
       "        [ 89.72115968],\n",
       "        [ 54.47584153],\n",
       "        [ 32.77109759],\n",
       "        [ 31.27765191],\n",
       "        [ 84.34475522],\n",
       "        [ 93.80324455],\n",
       "        [ 44.22084784],\n",
       "        [ 81.75611603],\n",
       "        [ 72.09850061],\n",
       "        [ 31.67590409],\n",
       "        [ 61.34569168],\n",
       "        [ 43.82259565],\n",
       "        [ 37.55012378],\n",
       "        [ 92.21023582],\n",
       "        [ 97.98489246],\n",
       "        [ 36.0566781 ],\n",
       "        [ 94.89843805],\n",
       "        [ 88.22771399],\n",
       "        [ 35.75798896],\n",
       "        [ 50.6924458 ],\n",
       "        [115.40842545],\n",
       "        [ 47.60599139],\n",
       "        [ 80.86004862],\n",
       "        [ 55.07321981],\n",
       "        [105.94993611],\n",
       "        [ 65.3282135 ],\n",
       "        [ 41.63220865],\n",
       "        [115.50798849],\n",
       "        [ 53.48021108],\n",
       "        [ 30.3815845 ],\n",
       "        [ 83.34912476],\n",
       "        [ 98.48270769],\n",
       "        [ 31.37721495],\n",
       "        [ 38.04793901],\n",
       "        [ 58.45836336],\n",
       "        [ 84.24519217],\n",
       "        [ 52.8828328 ],\n",
       "        [109.53420575],\n",
       "        [ 46.80948702],\n",
       "        [ 47.00861311],\n",
       "        [ 86.53514222],\n",
       "        [129.34725183],\n",
       "        [ 53.28108499],\n",
       "        [ 62.24175909],\n",
       "        [ 57.96054813],\n",
       "        [108.43901225],\n",
       "        [ 64.83039828],\n",
       "        [114.91061022],\n",
       "        [ 61.44525473],\n",
       "        [ 80.06354425],\n",
       "        [ 96.79013592],\n",
       "        [ 32.37284541],\n",
       "        [ 48.5020588 ],\n",
       "        [ 68.11597878],\n",
       "        [ 48.80074793],\n",
       "        [ 78.47053552],\n",
       "        [ 78.27140943],\n",
       "        [ 36.25580419],\n",
       "        [118.5944429 ],\n",
       "        [ 68.91248315],\n",
       "        [126.16123437],\n",
       "        [ 40.83570428],\n",
       "        [ 40.73614124],\n",
       "        [ 31.07852581],\n",
       "        [114.11410585],\n",
       "        [114.51235803],\n",
       "        [125.86254523],\n",
       "        [ 71.60068538],\n",
       "        [ 49.69681534],\n",
       "        [ 70.90374406],\n",
       "        [ 33.86629109],\n",
       "        [103.36129693],\n",
       "        [ 89.42247054],\n",
       "        [100.57353165],\n",
       "        [ 69.70898751],\n",
       "        [ 77.87315725],\n",
       "        [128.05293224],\n",
       "        [ 87.53077267],\n",
       "        [ 77.37534202],\n",
       "        [ 99.17964901],\n",
       "        [ 67.91685269],\n",
       "        [ 50.79200885],\n",
       "        [123.67215823],\n",
       "        [121.97958646],\n",
       "        [ 62.14219604],\n",
       "        [110.62939926],\n",
       "        [ 55.17278285],\n",
       "        [111.8241558 ],\n",
       "        [ 76.57883766],\n",
       "        [ 81.65655298],\n",
       "        [109.93245794],\n",
       "        [ 93.60411846],\n",
       "        [ 31.17808886],\n",
       "        [ 83.84693999],\n",
       "        [ 94.40062282],\n",
       "        [129.64594097],\n",
       "        [ 82.25393126],\n",
       "        [ 60.64875036],\n",
       "        [104.65561652],\n",
       "        [ 63.43651564],\n",
       "        [121.38220818],\n",
       "        [ 33.36847586],\n",
       "        [122.37783864],\n",
       "        [ 51.58851321],\n",
       "        [ 64.33258305],\n",
       "        [ 83.54825085],\n",
       "        [ 38.2470651 ],\n",
       "        [126.06167133],\n",
       "        [ 35.857552  ],\n",
       "        [ 57.66185899],\n",
       "        [ 86.43557917],\n",
       "        [115.90624067],\n",
       "        [ 48.40249575],\n",
       "        [ 69.9081136 ],\n",
       "        [ 55.67059808],\n",
       "        [ 82.95087258],\n",
       "        [ 95.79450546],\n",
       "        [ 88.42684009],\n",
       "        [ 59.05574163],\n",
       "        [ 74.38845065],\n",
       "        [124.86691478],\n",
       "        [113.71585367],\n",
       "        [ 53.67933717],\n",
       "        [ 44.61910002],\n",
       "        [ 43.52390652],\n",
       "        [ 77.67403116],\n",
       "        [ 85.73863785],\n",
       "        [112.72022321],\n",
       "        [ 34.66279546],\n",
       "        [ 96.98926201],\n",
       "        [ 94.798875  ],\n",
       "        [ 44.51953697],\n",
       "        [ 53.57977412],\n",
       "        [125.96210828],\n",
       "        [ 45.0173522 ],\n",
       "        [ 42.72740215],\n",
       "        [114.31323194],\n",
       "        [107.74207093],\n",
       "        [ 66.02515482],\n",
       "        [108.93682748],\n",
       "        [ 55.57103503],\n",
       "        [ 34.26454327],\n",
       "        [ 60.15093513],\n",
       "        [113.21803844],\n",
       "        [ 30.48114754],\n",
       "        [ 31.87503018],\n",
       "        [ 80.95961166],\n",
       "        [128.8494366 ]])}"
      ]
     },
     "execution_count": 43,
     "metadata": {},
     "output_type": "execute_result"
    }
   ],
   "source": []
  },
  {
   "cell_type": "markdown",
   "id": "e143da64",
   "metadata": {},
   "source": [
    "# Multi linear regression"
   ]
  },
  {
   "cell_type": "code",
   "execution_count": 44,
   "id": "f10e0172",
   "metadata": {},
   "outputs": [],
   "source": [
    "x=data[[\"Rank\",\"Votes\",\"Genre\",\"Director\",\"Rating\"]]\n",
    "y=data[[\"Revenue (Millions)\"]]"
   ]
  },
  {
   "cell_type": "code",
   "execution_count": 45,
   "id": "d44f6026",
   "metadata": {},
   "outputs": [],
   "source": [
    "from sklearn.model_selection import train_test_split"
   ]
  },
  {
   "cell_type": "code",
   "execution_count": 46,
   "id": "fb399529",
   "metadata": {},
   "outputs": [],
   "source": [
    "x_train,x_test,y_train,y_test=train_test_split(x,y,test_size=0.3,random_state=0)"
   ]
  },
  {
   "cell_type": "code",
   "execution_count": 47,
   "id": "0c8b51f0",
   "metadata": {},
   "outputs": [
    {
     "data": {
      "text/html": [
       "<div>\n",
       "<style scoped>\n",
       "    .dataframe tbody tr th:only-of-type {\n",
       "        vertical-align: middle;\n",
       "    }\n",
       "\n",
       "    .dataframe tbody tr th {\n",
       "        vertical-align: top;\n",
       "    }\n",
       "\n",
       "    .dataframe thead th {\n",
       "        text-align: right;\n",
       "    }\n",
       "</style>\n",
       "<table border=\"1\" class=\"dataframe\">\n",
       "  <thead>\n",
       "    <tr style=\"text-align: right;\">\n",
       "      <th></th>\n",
       "      <th>Rank</th>\n",
       "      <th>Votes</th>\n",
       "      <th>Genre</th>\n",
       "      <th>Director</th>\n",
       "      <th>Rating</th>\n",
       "    </tr>\n",
       "  </thead>\n",
       "  <tbody>\n",
       "    <tr>\n",
       "      <th>105</th>\n",
       "      <td>106</td>\n",
       "      <td>115546</td>\n",
       "      <td>145</td>\n",
       "      <td>147</td>\n",
       "      <td>43</td>\n",
       "    </tr>\n",
       "    <tr>\n",
       "      <th>68</th>\n",
       "      <td>69</td>\n",
       "      <td>291</td>\n",
       "      <td>149</td>\n",
       "      <td>529</td>\n",
       "      <td>41</td>\n",
       "    </tr>\n",
       "    <tr>\n",
       "      <th>479</th>\n",
       "      <td>480</td>\n",
       "      <td>41642</td>\n",
       "      <td>185</td>\n",
       "      <td>351</td>\n",
       "      <td>33</td>\n",
       "    </tr>\n",
       "    <tr>\n",
       "      <th>399</th>\n",
       "      <td>400</td>\n",
       "      <td>113686</td>\n",
       "      <td>112</td>\n",
       "      <td>589</td>\n",
       "      <td>27</td>\n",
       "    </tr>\n",
       "    <tr>\n",
       "      <th>434</th>\n",
       "      <td>435</td>\n",
       "      <td>223</td>\n",
       "      <td>26</td>\n",
       "      <td>116</td>\n",
       "      <td>30</td>\n",
       "    </tr>\n",
       "  </tbody>\n",
       "</table>\n",
       "</div>"
      ],
      "text/plain": [
       "     Rank   Votes  Genre  Director  Rating\n",
       "105   106  115546    145       147      43\n",
       "68     69     291    149       529      41\n",
       "479   480   41642    185       351      33\n",
       "399   400  113686    112       589      27\n",
       "434   435     223     26       116      30"
      ]
     },
     "execution_count": 47,
     "metadata": {},
     "output_type": "execute_result"
    }
   ],
   "source": [
    "x_train.head()"
   ]
  },
  {
   "cell_type": "code",
   "execution_count": 48,
   "id": "10264411",
   "metadata": {},
   "outputs": [
    {
     "data": {
      "text/plain": [
       "LinearRegression()"
      ]
     },
     "execution_count": 48,
     "metadata": {},
     "output_type": "execute_result"
    }
   ],
   "source": [
    "lr.fit(x_train,y_train)"
   ]
  },
  {
   "cell_type": "code",
   "execution_count": 49,
   "id": "5f49f2cd",
   "metadata": {},
   "outputs": [],
   "source": [
    "y_pred=lr.predict(x_test)"
   ]
  },
  {
   "cell_type": "code",
   "execution_count": 50,
   "id": "efce7cfc",
   "metadata": {},
   "outputs": [
    {
     "data": {
      "text/plain": [
       "0.3392838717599991"
      ]
     },
     "execution_count": 50,
     "metadata": {},
     "output_type": "execute_result"
    }
   ],
   "source": [
    "lr.score(x_train,y_train)"
   ]
  },
  {
   "cell_type": "code",
   "execution_count": 51,
   "id": "e188979c",
   "metadata": {},
   "outputs": [
    {
     "name": "stdout",
     "output_type": "stream",
     "text": [
      "Coefficient: \n",
      " [[-5.43594907e-02  2.96269065e-04 -2.18711585e-01  4.71542953e-03\n",
      "  -1.82147912e+00]]\n"
     ]
    }
   ],
   "source": [
    "print(\"Coefficient: \\n\",lr.coef_)"
   ]
  },
  {
   "cell_type": "code",
   "execution_count": 52,
   "id": "0e67706f",
   "metadata": {},
   "outputs": [
    {
     "name": "stdout",
     "output_type": "stream",
     "text": [
      "Intercept :\n",
      " [138.35418115]\n"
     ]
    }
   ],
   "source": [
    "print(\"Intercept :\\n\",lr.intercept_)"
   ]
  },
  {
   "cell_type": "code",
   "execution_count": 53,
   "id": "4fe8a3f8",
   "metadata": {},
   "outputs": [],
   "source": [
    "from sklearn.metrics import mean_absolute_error\n",
    "from sklearn.metrics import mean_squared_error\n",
    "from sklearn.metrics import r2_score"
   ]
  },
  {
   "cell_type": "code",
   "execution_count": 54,
   "id": "aa0316e4",
   "metadata": {},
   "outputs": [
    {
     "data": {
      "text/plain": [
       "49.22025475683878"
      ]
     },
     "execution_count": 54,
     "metadata": {},
     "output_type": "execute_result"
    }
   ],
   "source": [
    "mean_absolute_error(y_test, y_pred)"
   ]
  },
  {
   "cell_type": "code",
   "execution_count": 55,
   "id": "67589044",
   "metadata": {},
   "outputs": [
    {
     "data": {
      "text/plain": [
       "6386.541757634827"
      ]
     },
     "execution_count": 55,
     "metadata": {},
     "output_type": "execute_result"
    }
   ],
   "source": [
    "mean_squared_error(y_test, y_pred)"
   ]
  },
  {
   "cell_type": "code",
   "execution_count": 56,
   "id": "7d3d2c69",
   "metadata": {},
   "outputs": [
    {
     "data": {
      "text/plain": [
       "79.9158417188659"
      ]
     },
     "execution_count": 56,
     "metadata": {},
     "output_type": "execute_result"
    }
   ],
   "source": [
    "np.sqrt(mean_squared_error(y_test, y_pred))"
   ]
  },
  {
   "cell_type": "code",
   "execution_count": 57,
   "id": "548bbac0",
   "metadata": {},
   "outputs": [
    {
     "data": {
      "text/plain": [
       "0.4721697484878724"
      ]
     },
     "execution_count": 57,
     "metadata": {},
     "output_type": "execute_result"
    }
   ],
   "source": [
    "r2_score(y_test, y_pred)"
   ]
  },
  {
   "cell_type": "code",
   "execution_count": null,
   "id": "adff4317",
   "metadata": {},
   "outputs": [],
   "source": []
  },
  {
   "cell_type": "markdown",
   "id": "d6d6e50f",
   "metadata": {},
   "source": [
    "#  Decision Tree"
   ]
  },
  {
   "cell_type": "code",
   "execution_count": 58,
   "id": "9adaa423",
   "metadata": {},
   "outputs": [],
   "source": [
    "x=data[[\"Rank\",\"Votes\"]]\n",
    "y=data[[\"Revenue (Millions)\"]]\n"
   ]
  },
  {
   "cell_type": "code",
   "execution_count": 59,
   "id": "875cb614",
   "metadata": {},
   "outputs": [],
   "source": [
    "from sklearn.model_selection import train_test_split"
   ]
  },
  {
   "cell_type": "code",
   "execution_count": 60,
   "id": "6b4ee75d",
   "metadata": {},
   "outputs": [],
   "source": [
    "x_train,x_test,y_train,y_test=train_test_split(x,y,test_size=0.3,random_state=0)"
   ]
  },
  {
   "cell_type": "code",
   "execution_count": 61,
   "id": "c6417350",
   "metadata": {},
   "outputs": [
    {
     "data": {
      "text/html": [
       "<div>\n",
       "<style scoped>\n",
       "    .dataframe tbody tr th:only-of-type {\n",
       "        vertical-align: middle;\n",
       "    }\n",
       "\n",
       "    .dataframe tbody tr th {\n",
       "        vertical-align: top;\n",
       "    }\n",
       "\n",
       "    .dataframe thead th {\n",
       "        text-align: right;\n",
       "    }\n",
       "</style>\n",
       "<table border=\"1\" class=\"dataframe\">\n",
       "  <thead>\n",
       "    <tr style=\"text-align: right;\">\n",
       "      <th></th>\n",
       "      <th>Rank</th>\n",
       "      <th>Votes</th>\n",
       "    </tr>\n",
       "  </thead>\n",
       "  <tbody>\n",
       "    <tr>\n",
       "      <th>105</th>\n",
       "      <td>106</td>\n",
       "      <td>115546</td>\n",
       "    </tr>\n",
       "    <tr>\n",
       "      <th>68</th>\n",
       "      <td>69</td>\n",
       "      <td>291</td>\n",
       "    </tr>\n",
       "    <tr>\n",
       "      <th>479</th>\n",
       "      <td>480</td>\n",
       "      <td>41642</td>\n",
       "    </tr>\n",
       "    <tr>\n",
       "      <th>399</th>\n",
       "      <td>400</td>\n",
       "      <td>113686</td>\n",
       "    </tr>\n",
       "    <tr>\n",
       "      <th>434</th>\n",
       "      <td>435</td>\n",
       "      <td>223</td>\n",
       "    </tr>\n",
       "  </tbody>\n",
       "</table>\n",
       "</div>"
      ],
      "text/plain": [
       "     Rank   Votes\n",
       "105   106  115546\n",
       "68     69     291\n",
       "479   480   41642\n",
       "399   400  113686\n",
       "434   435     223"
      ]
     },
     "execution_count": 61,
     "metadata": {},
     "output_type": "execute_result"
    }
   ],
   "source": [
    "x_train.head()"
   ]
  },
  {
   "cell_type": "code",
   "execution_count": 62,
   "id": "1fb1852b",
   "metadata": {},
   "outputs": [
    {
     "data": {
      "text/plain": [
       "DecisionTreeRegressor()"
      ]
     },
     "execution_count": 62,
     "metadata": {},
     "output_type": "execute_result"
    }
   ],
   "source": [
    "from sklearn.tree import DecisionTreeRegressor\n",
    "reg = DecisionTreeRegressor()\n",
    "reg.fit(x_train, y_train)"
   ]
  },
  {
   "cell_type": "code",
   "execution_count": 63,
   "id": "fea03061",
   "metadata": {},
   "outputs": [
    {
     "data": {
      "text/plain": [
       "array([2.6860e+01, 1.0000e-02, 6.2880e+01, 1.1371e+02, 3.0000e-02,\n",
       "       6.7240e+01, 2.5030e+01, 3.0000e-02, 3.1580e+01, 7.1590e+01,\n",
       "       8.3810e+01, 2.0007e+02, 7.1900e+00, 7.2200e+00, 1.4440e+01,\n",
       "       3.3300e+00, 4.0250e+01, 3.6380e+01, 4.0070e+01, 9.3663e+02,\n",
       "       1.8019e+02, 4.7310e+01, 1.6380e+01, 1.3300e+00, 2.9102e+02,\n",
       "       6.2328e+02, 1.5880e+02, 2.7000e+00, 7.9000e-01, 3.9000e+00,\n",
       "       1.3600e+00, 3.4900e+01, 5.3080e+01, 2.5980e+01, 3.2460e+01,\n",
       "       2.3490e+02, 4.4813e+02, 5.2880e+01, 5.8880e+01, 7.7600e+00,\n",
       "       9.5330e+01, 6.2880e+01, 7.1900e+01, 5.3217e+02, 8.4240e+01,\n",
       "       1.2487e+02, 3.8560e+01, 3.4400e+00, 1.7740e+01, 1.5520e+01,\n",
       "       3.5645e+02, 1.0100e+01, 1.0147e+02, 2.2490e+01, 9.5000e+01,\n",
       "       3.1450e+01, 2.7360e+01, 5.8720e+01, 5.0000e-02, 5.6440e+01,\n",
       "       7.5590e+01, 1.6216e+02, 1.7200e+00, 1.0000e-01, 1.2487e+02,\n",
       "       5.1000e-01, 9.0000e-02, 2.0320e+01, 2.5511e+02, 9.4000e+00,\n",
       "       7.0000e-02, 3.2280e+01, 3.1060e+01, 2.2000e-01, 1.3090e+01,\n",
       "       1.2507e+02, 3.7370e+01, 1.2100e+00, 6.5070e+01, 4.2303e+02,\n",
       "       1.6970e+01, 3.8350e+01, 9.1120e+01, 1.6000e-01, 1.1000e-01,\n",
       "       7.9000e-01, 3.6800e+00, 5.2000e+00, 4.7700e+01, 1.7659e+02,\n",
       "       1.0116e+02, 3.2000e-01, 8.9730e+01, 1.2771e+02, 4.0808e+02,\n",
       "       5.8800e+00, 2.3620e+01, 1.8220e+02, 1.0002e+02, 1.3602e+02,\n",
       "       1.2100e+00, 2.5440e+01, 2.0000e-02, 3.9290e+01, 5.8880e+01,\n",
       "       1.4352e+02, 1.6971e+02, 1.8200e+00, 5.3990e+01, 1.5017e+02,\n",
       "       5.4010e+01, 2.0570e+01, 1.7205e+02, 2.1560e+01, 1.0910e+01,\n",
       "       1.4120e+01, 4.8020e+01, 1.9145e+02, 5.9070e+01, 3.5050e+01,\n",
       "       1.3880e+02, 5.0550e+01, 3.3653e+02, 4.7100e+00, 9.8900e+01,\n",
       "       1.3650e+01, 7.0270e+01, 4.1800e+01, 7.1350e+01, 6.8600e+00,\n",
       "       5.2070e+01, 3.6400e+02, 3.1860e+01, 7.7700e+00, 4.6980e+01,\n",
       "       1.5037e+02, 1.7988e+02, 1.8000e+00, 1.6680e+01, 3.0000e-02,\n",
       "       2.5120e+01, 1.0246e+02, 6.7400e+00, 1.8200e+00, 1.8700e+00,\n",
       "       2.1754e+02, 2.4100e+01, 3.7620e+01, 2.6900e+01, 1.1373e+02,\n",
       "       9.0360e+01, 1.2251e+02, 1.2630e+01, 7.0080e+01, 9.2400e+00,\n",
       "       1.0640e+01, 8.2230e+01, 2.2714e+02, 4.6810e+01, 1.9145e+02,\n",
       "       3.4300e+01, 3.6831e+02, 2.8770e+01, 1.4878e+02, 8.8920e+01,\n",
       "       1.5106e+02, 3.9000e+00, 1.2655e+02, 1.0918e+02, 3.7880e+01,\n",
       "       4.1780e+01, 1.4000e+00, 4.5430e+01, 4.8240e+01, 1.1868e+02,\n",
       "       3.2000e-01, 1.6908e+02, 4.2040e+01, 3.0350e+01, 6.0960e+01,\n",
       "       1.3000e+02, 2.2000e+00, 9.2170e+01, 1.5369e+02, 2.7370e+01,\n",
       "       4.4200e+00, 2.3490e+02, 4.8040e+01, 3.9380e+01, 4.7310e+01,\n",
       "       1.1753e+02, 1.4990e+01, 6.0520e+01, 3.1170e+01, 1.4641e+02,\n",
       "       3.0000e-02, 1.2530e+01, 5.0000e-02, 2.8000e-01, 2.2000e+00,\n",
       "       6.1100e+00, 1.7200e+00, 2.1754e+02, 2.6760e+01, 1.3650e+01,\n",
       "       1.5511e+02, 1.0000e-01, 7.4600e+00, 2.5360e+01, 3.8320e+01,\n",
       "       5.5120e+01, 1.9500e+02, 2.5560e+01, 7.9000e+01, 1.4349e+02,\n",
       "       1.0140e+01, 2.1270e+01, 2.3436e+02, 4.6800e+00, 1.2280e+01,\n",
       "       2.9298e+02, 3.4126e+02, 8.6200e+01, 7.5750e+01, 3.3313e+02,\n",
       "       1.7750e+01, 1.1280e+01, 2.6000e+01, 5.0000e-02, 1.2659e+02,\n",
       "       4.7110e+01, 2.2381e+02, 1.0252e+02, 4.0000e-02, 2.2843e+02,\n",
       "       2.3230e+01, 1.5790e+01, 2.0636e+02, 2.1380e+01, 3.5290e+01,\n",
       "       3.4330e+01, 6.7520e+01, 5.8230e+01, 8.8500e+01, 1.4132e+02,\n",
       "       4.1570e+01, 6.5000e+00, 8.6000e-01, 5.0920e+01, 1.1714e+02,\n",
       "       3.6400e+00, 2.7032e+02, 2.3867e+02, 1.7180e+01, 3.3400e+01,\n",
       "       3.1990e+01, 1.3000e-01, 5.4240e+01, 8.5460e+01, 6.6000e-01,\n",
       "       7.6900e+00, 2.6380e+01, 1.7400e+00, 4.6280e+01, 4.0000e+00,\n",
       "       1.4170e+01, 8.2620e+01, 5.5090e+01, 1.6615e+02, 9.3570e+01,\n",
       "       1.0047e+02, 2.4100e+00, 2.1059e+02, 1.6259e+02, 1.2655e+02,\n",
       "       2.4543e+02, 2.2700e+00, 2.0170e+01, 3.1240e+01, 1.4481e+02,\n",
       "       8.0100e+00, 2.7000e+00, 4.9000e+01, 1.8700e+01, 1.6170e+01,\n",
       "       2.0081e+02, 1.3600e+00, 1.1080e+01, 4.6880e+01, 3.5236e+02,\n",
       "       5.3680e+01, 7.6200e+01, 6.0440e+01, 5.8010e+01, 6.8800e+00,\n",
       "       8.9210e+01, 3.3603e+02, 7.5270e+01, 3.0196e+02, 1.1565e+02,\n",
       "       5.3990e+01, 5.7370e+01, 4.7310e+01, 8.1000e-01, 7.7900e+00,\n",
       "       5.0460e+01, 1.0153e+02, 2.5590e+01, 1.2800e+01, 8.3910e+01,\n",
       "       5.8400e+01, 1.3209e+02, 1.2507e+02, 7.6900e+00, 2.2000e-01,\n",
       "       2.0000e-02, 3.7700e+00, 3.5270e+01, 4.9550e+01, 1.9000e+01,\n",
       "       1.8941e+02, 3.3000e-01, 6.7520e+01, 4.8040e+01, 3.4020e+01,\n",
       "       1.1560e+02, 1.2710e+01, 1.6200e+01, 1.5000e-01, 3.2502e+02,\n",
       "       1.7540e+01, 8.0020e+01, 7.8000e-01, 1.4010e+01, 8.3640e+01,\n",
       "       3.1570e+01, 5.9890e+01, 2.9000e-01, 1.5264e+02, 1.0800e+00,\n",
       "       1.7700e+02, 1.9162e+02, 7.2660e+01, 1.3013e+02, 1.3750e+01,\n",
       "       2.0902e+02, 8.7240e+01, 2.3400e+00, 8.5910e+01, 2.4875e+02,\n",
       "       9.7030e+01, 6.1000e-01, 7.5610e+01, 2.6050e+01, 1.8000e+00,\n",
       "       3.1900e+00, 3.8180e+01, 1.9799e+02, 3.5900e+00, 1.7664e+02,\n",
       "       4.4990e+01, 1.1373e+02, 5.8680e+01, 1.9100e+00, 1.6701e+02,\n",
       "       1.6600e+00, 6.7120e+01, 1.6319e+02, 2.8128e+02, 5.0150e+01,\n",
       "       1.5520e+01, 7.1000e+00, 6.2880e+01, 7.3340e+01, 8.9290e+01,\n",
       "       2.3000e-01, 1.7103e+02, 4.3020e+01, 2.0936e+02, 1.6774e+02,\n",
       "       1.0437e+02, 3.6840e+01, 1.9087e+02, 2.1200e+01, 2.0300e+01,\n",
       "       3.1900e+00, 2.1739e+02, 7.7210e+01, 8.2230e+01, 6.8500e+00,\n",
       "       5.6900e+00, 4.3770e+01, 3.5890e+01, 6.1280e+01, 5.8400e+01,\n",
       "       2.7408e+02, 1.5502e+02, 2.4405e+02, 1.6380e+01, 1.4260e+01,\n",
       "       2.1300e+00, 5.4650e+01, 3.8096e+02, 8.8300e+00, 5.0000e-02,\n",
       "       3.8510e+01, 2.0854e+02, 5.2820e+01, 1.5012e+02, 6.2560e+01,\n",
       "       6.4420e+01, 9.3500e+00, 3.4960e+01, 2.1739e+02, 1.1001e+02,\n",
       "       7.4270e+01, 1.3400e+01, 5.4410e+01, 1.3739e+02, 8.3300e+01,\n",
       "       2.1300e+00, 3.0052e+02, 3.6060e+01, 5.0860e+01, 1.4809e+02,\n",
       "       3.6302e+02, 5.4120e+01, 4.2100e+00, 6.6470e+01, 7.5310e+01,\n",
       "       1.2900e+00, 1.2738e+02, 7.9000e+01, 3.6500e+00, 1.3367e+02,\n",
       "       4.4670e+01, 1.2473e+02, 3.0980e+01, 1.3367e+02, 3.3419e+02,\n",
       "       5.8000e-01, 7.9240e+01, 2.1540e+02, 7.0220e+01, 5.4410e+01,\n",
       "       1.5958e+02, 3.3040e+01, 1.5520e+01, 2.5030e+01, 6.5000e+01,\n",
       "       4.9870e+01, 6.8800e+00, 4.0000e-02, 1.2498e+02, 1.2797e+02,\n",
       "       3.1876e+02, 2.0760e+01, 3.0300e+00, 5.4410e+01, 3.4000e+00,\n",
       "       3.9830e+01, 1.0140e+01, 2.1863e+02, 5.5800e+01, 2.2100e+00,\n",
       "       3.2360e+01, 4.7950e+01, 1.5363e+02, 1.0314e+02, 5.2420e+01,\n",
       "       2.5975e+02, 7.3820e+01, 1.8364e+02, 5.6820e+01, 5.6670e+01,\n",
       "       6.5030e+01, 2.1400e+00, 2.8750e+01, 5.6110e+01, 8.9020e+01,\n",
       "       8.8100e+00, 3.2000e-01, 1.4990e+01, 3.2000e-01, 9.3050e+01,\n",
       "       4.7380e+01, 1.1922e+02, 5.7700e+00, 1.5083e+02, 5.4720e+01,\n",
       "       3.2390e+01, 2.4141e+02, 1.1659e+02, 1.2130e+01, 4.6980e+01,\n",
       "       1.1150e+01, 8.0020e+01, 6.5000e+00, 1.0160e+01, 3.4260e+01,\n",
       "       2.0000e-01, 2.0066e+02, 2.0000e-01, 6.2320e+01, 3.5790e+01,\n",
       "       5.0100e+00, 2.5770e+02, 6.8560e+01, 4.2340e+01, 1.0000e-02,\n",
       "       3.7550e+01, 2.2800e+00, 1.1082e+02, 3.1206e+02, 1.4500e+02,\n",
       "       1.1753e+02, 1.0050e+02, 3.2200e+00, 6.4060e+01, 3.0436e+02,\n",
       "       8.7000e+00, 4.5899e+02, 5.8400e+01, 1.9800e+00, 3.7400e+01,\n",
       "       1.1770e+02, 1.4900e+01, 2.3728e+02, 5.1780e+01, 4.6980e+01,\n",
       "       3.4000e+00, 1.0241e+02, 4.4800e+01, 3.1900e+00, 8.9020e+01,\n",
       "       9.0760e+01, 1.4821e+02, 2.0115e+02, 1.5533e+02, 2.9257e+02,\n",
       "       6.2490e+01, 1.6837e+02, 1.6927e+02, 1.2790e+01, 1.0380e+01,\n",
       "       3.8600e+00, 1.8799e+02, 6.1690e+01, 3.1800e+00, 2.7850e+01,\n",
       "       2.8480e+01, 1.8344e+02, 4.8060e+01, 1.5518e+02, 1.2146e+02,\n",
       "       1.0218e+02, 1.5032e+02, 4.4813e+02, 6.9000e-01, 4.8500e+00,\n",
       "       1.2900e+00, 1.0971e+02, 5.7640e+01, 1.2900e+00, 1.5369e+02,\n",
       "       1.3338e+02, 3.5390e+01, 3.8500e+00, 6.4510e+01, 7.2310e+01,\n",
       "       8.1000e+00, 2.6203e+02, 3.5390e+01, 1.9450e+01, 1.0522e+02,\n",
       "       6.6950e+01, 1.8330e+01, 5.5290e+01, 4.2350e+01, 6.5170e+01,\n",
       "       1.1753e+02, 1.8350e+01, 3.6250e+01, 2.6810e+01, 1.3990e+01,\n",
       "       2.0007e+02, 3.8540e+01, 8.0900e+00, 1.0298e+02, 2.3210e+01,\n",
       "       1.3457e+02, 1.5006e+02, 3.6920e+01, 5.2000e+01, 8.7340e+01,\n",
       "       1.4680e+01, 1.7734e+02, 2.4090e+01, 5.2690e+01, 1.2800e+02,\n",
       "       1.5000e-01, 1.5880e+02, 1.0140e+01, 9.6920e+01, 3.1830e+02,\n",
       "       3.5003e+02, 2.2381e+02, 3.4960e+01, 1.4800e+00, 1.1371e+02,\n",
       "       3.4530e+01, 4.7170e+01, 1.1687e+02, 6.5200e+00, 3.8600e+00,\n",
       "       4.8629e+02, 3.3600e+00, 6.5000e+01, 5.6230e+01, 1.0000e-02,\n",
       "       1.7674e+02, 2.5000e+01, 3.0000e-02, 7.5280e+01, 1.2790e+01,\n",
       "       3.0000e-02, 1.3255e+02, 1.3209e+02, 3.2300e+00, 2.1270e+01,\n",
       "       5.3850e+01, 1.1868e+02, 3.4010e+01, 4.3000e+01, 2.2000e-01,\n",
       "       1.8000e-01, 1.4370e+02, 8.2160e+01, 1.1308e+02, 3.4000e+00,\n",
       "       2.3010e+01, 2.2880e+01, 9.0300e+00, 2.5590e+01, 4.0800e+02,\n",
       "       8.8760e+01, 3.6770e+01, 5.3680e+01, 3.7100e+00, 5.6720e+01,\n",
       "       3.3000e-01, 3.0000e-02, 1.7360e+01, 1.0637e+02, 8.0000e-02,\n",
       "       1.0750e+02, 3.0000e-02, 3.6805e+02, 1.0140e+01, 1.1042e+02,\n",
       "       1.3237e+02, 8.1160e+01, 2.2249e+02, 2.8840e+01, 9.0000e-02,\n",
       "       5.7300e+00, 6.0000e-02, 5.4730e+01, 8.5020e+01, 3.8600e+00,\n",
       "       3.7300e+00, 9.3750e+01, 5.4000e-01, 1.0000e-02, 9.5000e+01,\n",
       "       8.2390e+01, 4.0074e+02, 7.6051e+02, 7.7000e+00, 1.1882e+02,\n",
       "       6.2450e+01, 2.9200e+02, 1.3452e+02, 4.6000e+01, 1.6611e+02,\n",
       "       4.0070e+01, 1.4834e+02, 7.1980e+01, 6.0000e-02, 3.3050e+01,\n",
       "       2.0750e+01, 1.0001e+02, 1.5290e+01, 1.0200e+00, 1.0111e+02,\n",
       "       5.9800e+00, 4.4990e+01, 1.1373e+02, 4.4000e-01, 6.9950e+01])"
      ]
     },
     "execution_count": 63,
     "metadata": {},
     "output_type": "execute_result"
    }
   ],
   "source": [
    "y_train_pred = reg.predict(x_train)\n",
    "y_train_pred"
   ]
  },
  {
   "cell_type": "code",
   "execution_count": 64,
   "id": "968ecb90",
   "metadata": {},
   "outputs": [],
   "source": [
    "y_pred=reg.predict(x_test)"
   ]
  },
  {
   "cell_type": "code",
   "execution_count": 65,
   "id": "083ee854",
   "metadata": {},
   "outputs": [
    {
     "data": {
      "text/plain": [
       "1.0"
      ]
     },
     "execution_count": 65,
     "metadata": {},
     "output_type": "execute_result"
    }
   ],
   "source": [
    "reg.score(x_train,y_train)"
   ]
  },
  {
   "cell_type": "code",
   "execution_count": 66,
   "id": "bde05377",
   "metadata": {},
   "outputs": [
    {
     "name": "stdout",
     "output_type": "stream",
     "text": [
      "Coefficient: \n",
      " [[-5.43594907e-02  2.96269065e-04 -2.18711585e-01  4.71542953e-03\n",
      "  -1.82147912e+00]]\n"
     ]
    }
   ],
   "source": [
    "print(\"Coefficient: \\n\",lr.coef_)"
   ]
  },
  {
   "cell_type": "code",
   "execution_count": 67,
   "id": "e5a7c8b8",
   "metadata": {},
   "outputs": [
    {
     "name": "stdout",
     "output_type": "stream",
     "text": [
      "Intercept :\n",
      " [138.35418115]\n"
     ]
    }
   ],
   "source": [
    "print(\"Intercept :\\n\",lr.intercept_)"
   ]
  },
  {
   "cell_type": "code",
   "execution_count": 68,
   "id": "b65cdffa",
   "metadata": {},
   "outputs": [],
   "source": [
    "from sklearn.metrics import mean_absolute_error\n",
    "from sklearn.metrics import mean_squared_error\n",
    "from sklearn.metrics import r2_score"
   ]
  },
  {
   "cell_type": "code",
   "execution_count": 69,
   "id": "60d36ca5",
   "metadata": {},
   "outputs": [
    {
     "data": {
      "text/plain": [
       "73.6444"
      ]
     },
     "execution_count": 69,
     "metadata": {},
     "output_type": "execute_result"
    }
   ],
   "source": [
    "mean_absolute_error(y_test, y_pred)"
   ]
  },
  {
   "cell_type": "code",
   "execution_count": 70,
   "id": "e1af1ec4",
   "metadata": {},
   "outputs": [
    {
     "data": {
      "text/plain": [
       "14304.773884666665"
      ]
     },
     "execution_count": 70,
     "metadata": {},
     "output_type": "execute_result"
    }
   ],
   "source": [
    "mean_squared_error(y_test, y_pred)"
   ]
  },
  {
   "cell_type": "code",
   "execution_count": 71,
   "id": "d47a6535",
   "metadata": {},
   "outputs": [
    {
     "data": {
      "text/plain": [
       "119.60256637993461"
      ]
     },
     "execution_count": 71,
     "metadata": {},
     "output_type": "execute_result"
    }
   ],
   "source": [
    "np.sqrt(mean_squared_error(y_test, y_pred))"
   ]
  },
  {
   "cell_type": "code",
   "execution_count": 72,
   "id": "0da3713d",
   "metadata": {},
   "outputs": [
    {
     "data": {
      "text/plain": [
       "-0.18225053305906003"
      ]
     },
     "execution_count": 72,
     "metadata": {},
     "output_type": "execute_result"
    }
   ],
   "source": [
    "r2_score(y_test, y_pred)"
   ]
  },
  {
   "cell_type": "code",
   "execution_count": 73,
   "id": "1a1cd086",
   "metadata": {
    "scrolled": true
   },
   "outputs": [
    {
     "data": {
      "text/plain": [
       "{'Actual value':      Rank   Votes\n",
       " 105   106  115546\n",
       " 68     69     291\n",
       " 479   480   41642\n",
       " 399   400  113686\n",
       " 434   435     223\n",
       " ..    ...     ...\n",
       " 835   836   38804\n",
       " 192   193  268282\n",
       " 629   630   74886\n",
       " 559   560  115355\n",
       " 684   685  245144\n",
       " \n",
       " [700 rows x 2 columns],\n",
       " 'predicted value': array([1.4821e+02, 2.3210e+01, 7.1000e+00, 7.7000e+00, 5.7370e+01,\n",
       "        3.0052e+02, 6.5000e+00, 3.0436e+02, 8.0020e+01, 2.0300e+01,\n",
       "        1.1280e+01, 3.8320e+01, 3.4900e+01, 6.7240e+01, 1.3880e+02,\n",
       "        3.2460e+01, 8.0000e-02, 1.0246e+02, 8.0100e+00, 6.2328e+02,\n",
       "        1.0314e+02, 3.8320e+01, 1.0153e+02, 3.1580e+01, 8.3300e+01,\n",
       "        1.2280e+01, 4.3000e+01, 1.2900e+00, 3.6920e+01, 3.3313e+02,\n",
       "        6.8800e+00, 2.1754e+02, 1.1922e+02, 3.4900e+01, 3.3603e+02,\n",
       "        3.6500e+00, 3.0052e+02, 1.0971e+02, 2.8128e+02, 1.2473e+02,\n",
       "        1.8364e+02, 5.8010e+01, 3.9830e+01, 2.1754e+02, 2.6760e+01,\n",
       "        2.1754e+02, 5.4410e+01, 5.7640e+01, 2.7360e+01, 3.8540e+01,\n",
       "        2.6900e+01, 6.6000e-01, 6.6000e-01, 1.4500e+02, 6.6950e+01,\n",
       "        1.5032e+02, 4.2340e+01, 5.9070e+01, 8.5910e+01, 3.7550e+01,\n",
       "        7.4600e+00, 3.6500e+00, 4.6880e+01, 1.2738e+02, 1.0910e+01,\n",
       "        2.0000e-01, 2.1300e+00, 4.4200e+00, 8.8760e+01, 5.8000e-01,\n",
       "        6.9000e-01, 2.5511e+02, 3.8600e+00, 5.0000e-02, 6.7400e+00,\n",
       "        3.3603e+02, 1.0522e+02, 1.2280e+01, 3.2000e-01, 3.8600e+00,\n",
       "        5.9070e+01, 1.5511e+02, 3.1580e+01, 2.2800e+00, 2.8128e+02,\n",
       "        3.3000e-01, 7.1000e+00, 8.8300e+00, 2.0066e+02, 6.7520e+01,\n",
       "        3.5270e+01, 3.8320e+01, 9.3500e+00, 5.9070e+01, 7.7900e+00,\n",
       "        1.2655e+02, 3.4960e+01, 2.1059e+02, 4.7310e+01, 3.6500e+00,\n",
       "        3.6805e+02, 1.6170e+01, 5.3080e+01, 9.3500e+00, 2.1300e+00,\n",
       "        2.3436e+02, 1.2100e+00, 3.6805e+02, 2.6050e+01, 3.5645e+02,\n",
       "        1.2900e+00, 1.7180e+01, 1.2655e+02, 2.0000e-02, 5.9070e+01,\n",
       "        1.4370e+02, 7.9000e+01, 2.3000e-01, 1.3602e+02, 1.2630e+01,\n",
       "        7.7210e+01, 2.8128e+02, 3.8560e+01, 2.2800e+00, 5.3080e+01,\n",
       "        3.1450e+01, 1.1080e+01, 1.4120e+01, 2.2490e+01, 3.0000e-02,\n",
       "        1.1565e+02, 6.2320e+01, 1.5032e+02, 3.7880e+01, 3.1240e+01,\n",
       "        6.2320e+01, 6.2560e+01, 8.0100e+00, 1.5511e+02, 8.1160e+01,\n",
       "        2.2843e+02, 1.4800e+00, 5.4000e-01, 5.9070e+01, 7.6200e+01,\n",
       "        4.3770e+01, 1.2487e+02, 1.1371e+02, 4.3000e+01, 1.1308e+02,\n",
       "        5.9070e+01, 1.1308e+02, 2.0936e+02, 6.0000e-02, 8.8100e+00,\n",
       "        1.4821e+02, 3.8320e+01, 8.9020e+01, 4.1780e+01, 5.0000e-02,\n",
       "        4.8500e+00, 2.1560e+01, 1.4809e+02, 3.4000e+00, 2.2000e-01,\n",
       "        9.2400e+00, 4.6280e+01, 8.9290e+01, 1.6200e+01, 2.0936e+02,\n",
       "        7.0000e-02, 7.0270e+01, 1.2530e+01, 6.8800e+00, 2.0066e+02,\n",
       "        6.8560e+01, 1.7740e+01, 1.2100e+00, 8.3300e+01, 1.2797e+02,\n",
       "        1.6837e+02, 1.7540e+01, 3.5270e+01, 5.6900e+00, 5.8010e+01,\n",
       "        7.0080e+01, 3.7880e+01, 2.3490e+02, 3.1990e+01, 1.2738e+02,\n",
       "        7.3340e+01, 1.6680e+01, 7.1350e+01, 2.7032e+02, 3.5900e+00,\n",
       "        2.1270e+01, 2.5120e+01, 1.2738e+02, 8.6000e-01, 1.4260e+01,\n",
       "        5.8680e+01, 2.2880e+01, 2.6900e+01, 8.2390e+01, 2.3728e+02,\n",
       "        1.9450e+01, 4.1570e+01, 9.0300e+00, 1.1565e+02, 8.3810e+01,\n",
       "        3.8096e+02, 2.3400e+00, 4.2040e+01, 2.8128e+02, 8.8920e+01,\n",
       "        1.7540e+01, 4.2040e+01, 3.4000e+00, 1.0314e+02, 3.7400e+01,\n",
       "        3.4900e+01, 1.1753e+02, 5.4410e+01, 5.5290e+01, 3.3603e+02,\n",
       "        1.3209e+02, 1.1753e+02, 5.6440e+01, 5.4650e+01, 1.4500e+02,\n",
       "        1.7360e+01, 1.2507e+02, 6.5000e+01, 2.8480e+01, 5.4650e+01,\n",
       "        4.0070e+01, 5.7370e+01, 1.7200e+00, 2.0170e+01, 1.1001e+02,\n",
       "        1.5520e+01, 1.5790e+01, 1.3090e+01, 7.9000e-01, 1.5264e+02,\n",
       "        6.2880e+01, 2.4100e+00, 1.0001e+02, 1.3367e+02, 4.9870e+01,\n",
       "        1.3739e+02, 3.1170e+01, 3.5003e+02, 3.0052e+02, 3.4126e+02,\n",
       "        6.0000e-02, 1.0140e+01, 1.3013e+02, 7.0000e-02, 1.0314e+02,\n",
       "        1.4821e+02, 1.0116e+02, 1.8200e+00, 7.4270e+01, 3.6920e+01,\n",
       "        3.9000e+00, 2.0170e+01, 7.1350e+01, 1.5502e+02, 1.5520e+01,\n",
       "        5.7300e+00, 4.4000e-01, 4.3000e+01, 7.4270e+01, 5.0550e+01,\n",
       "        2.1540e+02, 3.3600e+00, 2.0000e-02, 7.5280e+01, 3.4000e+00,\n",
       "        2.6050e+01, 6.4060e+01, 6.4060e+01, 5.4010e+01, 2.5120e+01,\n",
       "        1.2790e+01, 9.0000e-02, 7.1980e+01, 8.4240e+01, 8.8760e+01,\n",
       "        8.3910e+01, 1.6908e+02, 6.0000e-02, 1.3600e+00, 3.3000e-01,\n",
       "        2.4090e+01, 1.7540e+01, 8.5910e+01, 1.5511e+02, 1.5106e+02])}"
      ]
     },
     "execution_count": 73,
     "metadata": {},
     "output_type": "execute_result"
    }
   ],
   "source": [
    "a={\"Actual value\":x_train,\"predicted value\":y_pred}\n",
    "a"
   ]
  },
  {
   "cell_type": "markdown",
   "id": "19c6f359",
   "metadata": {},
   "source": [
    "# conclusion\n",
    "The simple linear regression has best r2 score i.e.76% \n",
    "We've seen a nice range of different movies from different groups in this notebook, with Pulp Fiction and Schindler's List coming out on top overall. Of course there is so much more exploring that could be done - exploring more genres, specific countries etc. but this is where I'll end this notebook.\n",
    "\n",
    "Thank you so much for reading. Hope you enjoyed!"
   ]
  }
 ],
 "metadata": {
  "kernelspec": {
   "display_name": "Python 3 (ipykernel)",
   "language": "python",
   "name": "python3"
  },
  "language_info": {
   "codemirror_mode": {
    "name": "ipython",
    "version": 3
   },
   "file_extension": ".py",
   "mimetype": "text/x-python",
   "name": "python",
   "nbconvert_exporter": "python",
   "pygments_lexer": "ipython3",
   "version": "3.9.12"
  }
 },
 "nbformat": 4,
 "nbformat_minor": 5
}
